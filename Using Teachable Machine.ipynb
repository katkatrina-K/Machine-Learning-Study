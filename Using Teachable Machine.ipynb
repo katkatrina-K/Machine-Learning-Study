{
 "cells": [
  {
   "cell_type": "code",
   "execution_count": 1,
   "id": "e5847d05",
   "metadata": {},
   "outputs": [
    {
     "name": "stdout",
     "output_type": "stream",
     "text": [
      "modules loaded\n"
     ]
    }
   ],
   "source": [
    "# import system libs\n",
    "import os\n",
    "\n",
    "# import data handling tools\n",
    "import numpy as np\n",
    "import pandas as pd\n",
    "import seaborn as sns\n",
    "import matplotlib.pyplot as plt\n",
    "from PIL import Image, ImageOps\n",
    "\n",
    "# import Deep learning Libraries\n",
    "from tensorflow.keras.models import load_model\n",
    "\n",
    "# Ignore Warnings\n",
    "import warnings\n",
    "warnings.filterwarnings(\"ignore\")\n",
    "\n",
    "print ('modules loaded')"
   ]
  },
  {
   "cell_type": "markdown",
   "id": "a71403aa",
   "metadata": {},
   "source": [
    "## Introduction"
   ]
  },
  {
   "cell_type": "markdown",
   "id": "92033052",
   "metadata": {},
   "source": [
    "### Pneumonia \n",
    "Pneumonia is an inflammatory condition of the lung affecting primarily the small air sacs known as alveoli.Symptoms typically include some combination of productive or dry cough, chest pain, fever and difficulty breathing. The severity of the condition is variable. Pneumonia is usually caused by infection with viruses or bacteria and less commonly by other microorganisms, certain medications or conditions such as autoimmune diseases.Risk factors include cystic fibrosis, chronic obstructive pulmonary disease (COPD), asthma, diabetes, heart failure, a history of smoking, a poor ability to cough such as following a stroke and a weak immune system. Diagnosis is often based on symptoms and physical examination. Chest X-ray, blood tests, and culture of the sputum may help confirm the diagnosis.The disease may be classified by where it was acquired, such as community- or hospital-acquired or healthcare-associated pneumonia.\n",
    "\n",
    "(from Kaggel:https://www.kaggle.com/code/madz2000/pneumonia-detection-using-cnn-92-6-accuracy#Description-of-the-Pneumonia-Dataset)"
   ]
  },
  {
   "cell_type": "markdown",
   "id": "20a756d8",
   "metadata": {},
   "source": [
    "### Dataset\n",
    "I obtained a dataset from Kaggle.  \n",
    "\n",
    "The dataset is organized into three folders (train, test, val), with subfolders for each image category (Pneumonia/Normal). It contains 5,863 X-Ray images (JPEG) and is divided into two categories (Pneumonia/Normal).   \n",
    "\n",
    "I merged the train and val sets for model training(Normal:1349, P:3883) and the testing set were usedfor model testing(Normal:240, P:390), without using the validation set.\n",
    "\n",
    "The training parameters for the model are Epochs = 100, Batch Size = 16, Learning Rate = 0.0001."
   ]
  },
  {
   "cell_type": "markdown",
   "id": "0730d380",
   "metadata": {},
   "source": [
    "### Target\n",
    "The purpose is to detect and classify human diseases from medical images.\n"
   ]
  },
  {
   "cell_type": "markdown",
   "id": "dc91b504",
   "metadata": {},
   "source": [
    "## Read Data (Test)"
   ]
  },
  {
   "cell_type": "code",
   "execution_count": 2,
   "id": "afc7795c",
   "metadata": {},
   "outputs": [],
   "source": [
    "data_dir = '/Users/kang/Desktop/Py_Projects/chest-xray-pneumonia/test'\n",
    "filepaths = []\n",
    "labels = []\n",
    "\n",
    "# Loop over all files in the data directory\n",
    "for root, dirs, files in os.walk(data_dir):\n",
    "    for file in files:\n",
    "        if file.endswith('.jpeg') or file.endswith('.jpg') or file.endswith('.png'):\n",
    "            # Concatenate the file path with the root directory\n",
    "            fpath = os.path.join(root, file)\n",
    "            filepaths.append(fpath)\n",
    "            # Extract the label from the directory name\n",
    "            label = os.path.basename(os.path.dirname(fpath))\n",
    "            labels.append(label)\n",
    "\n",
    "# Concatenate data paths with labels into one dataframe\n",
    "Fseries = pd.Series(filepaths, name= 'filepaths')\n",
    "Lseries = pd.Series(labels, name='labels')\n",
    "df = pd.concat([Fseries, Lseries], axis= 1)"
   ]
  },
  {
   "cell_type": "code",
   "execution_count": 3,
   "id": "0ba06fb8",
   "metadata": {},
   "outputs": [
    {
     "data": {
      "text/html": [
       "<div>\n",
       "<style scoped>\n",
       "    .dataframe tbody tr th:only-of-type {\n",
       "        vertical-align: middle;\n",
       "    }\n",
       "\n",
       "    .dataframe tbody tr th {\n",
       "        vertical-align: top;\n",
       "    }\n",
       "\n",
       "    .dataframe thead th {\n",
       "        text-align: right;\n",
       "    }\n",
       "</style>\n",
       "<table border=\"1\" class=\"dataframe\">\n",
       "  <thead>\n",
       "    <tr style=\"text-align: right;\">\n",
       "      <th></th>\n",
       "      <th>filepaths</th>\n",
       "      <th>labels</th>\n",
       "    </tr>\n",
       "  </thead>\n",
       "  <tbody>\n",
       "    <tr>\n",
       "      <th>0</th>\n",
       "      <td>/Users/kang/Desktop/Py_Projects/chest-xray-pne...</td>\n",
       "      <td>PNEUMONIA</td>\n",
       "    </tr>\n",
       "    <tr>\n",
       "      <th>1</th>\n",
       "      <td>/Users/kang/Desktop/Py_Projects/chest-xray-pne...</td>\n",
       "      <td>PNEUMONIA</td>\n",
       "    </tr>\n",
       "    <tr>\n",
       "      <th>2</th>\n",
       "      <td>/Users/kang/Desktop/Py_Projects/chest-xray-pne...</td>\n",
       "      <td>PNEUMONIA</td>\n",
       "    </tr>\n",
       "    <tr>\n",
       "      <th>3</th>\n",
       "      <td>/Users/kang/Desktop/Py_Projects/chest-xray-pne...</td>\n",
       "      <td>PNEUMONIA</td>\n",
       "    </tr>\n",
       "    <tr>\n",
       "      <th>4</th>\n",
       "      <td>/Users/kang/Desktop/Py_Projects/chest-xray-pne...</td>\n",
       "      <td>PNEUMONIA</td>\n",
       "    </tr>\n",
       "    <tr>\n",
       "      <th>...</th>\n",
       "      <td>...</td>\n",
       "      <td>...</td>\n",
       "    </tr>\n",
       "    <tr>\n",
       "      <th>619</th>\n",
       "      <td>/Users/kang/Desktop/Py_Projects/chest-xray-pne...</td>\n",
       "      <td>NORMAL</td>\n",
       "    </tr>\n",
       "    <tr>\n",
       "      <th>620</th>\n",
       "      <td>/Users/kang/Desktop/Py_Projects/chest-xray-pne...</td>\n",
       "      <td>NORMAL</td>\n",
       "    </tr>\n",
       "    <tr>\n",
       "      <th>621</th>\n",
       "      <td>/Users/kang/Desktop/Py_Projects/chest-xray-pne...</td>\n",
       "      <td>NORMAL</td>\n",
       "    </tr>\n",
       "    <tr>\n",
       "      <th>622</th>\n",
       "      <td>/Users/kang/Desktop/Py_Projects/chest-xray-pne...</td>\n",
       "      <td>NORMAL</td>\n",
       "    </tr>\n",
       "    <tr>\n",
       "      <th>623</th>\n",
       "      <td>/Users/kang/Desktop/Py_Projects/chest-xray-pne...</td>\n",
       "      <td>NORMAL</td>\n",
       "    </tr>\n",
       "  </tbody>\n",
       "</table>\n",
       "<p>624 rows × 2 columns</p>\n",
       "</div>"
      ],
      "text/plain": [
       "                                             filepaths     labels\n",
       "0    /Users/kang/Desktop/Py_Projects/chest-xray-pne...  PNEUMONIA\n",
       "1    /Users/kang/Desktop/Py_Projects/chest-xray-pne...  PNEUMONIA\n",
       "2    /Users/kang/Desktop/Py_Projects/chest-xray-pne...  PNEUMONIA\n",
       "3    /Users/kang/Desktop/Py_Projects/chest-xray-pne...  PNEUMONIA\n",
       "4    /Users/kang/Desktop/Py_Projects/chest-xray-pne...  PNEUMONIA\n",
       "..                                                 ...        ...\n",
       "619  /Users/kang/Desktop/Py_Projects/chest-xray-pne...     NORMAL\n",
       "620  /Users/kang/Desktop/Py_Projects/chest-xray-pne...     NORMAL\n",
       "621  /Users/kang/Desktop/Py_Projects/chest-xray-pne...     NORMAL\n",
       "622  /Users/kang/Desktop/Py_Projects/chest-xray-pne...     NORMAL\n",
       "623  /Users/kang/Desktop/Py_Projects/chest-xray-pne...     NORMAL\n",
       "\n",
       "[624 rows x 2 columns]"
      ]
     },
     "execution_count": 3,
     "metadata": {},
     "output_type": "execute_result"
    }
   ],
   "source": [
    "df"
   ]
  },
  {
   "cell_type": "code",
   "execution_count": 4,
   "id": "2fbfec90",
   "metadata": {
    "scrolled": false
   },
   "outputs": [
    {
     "data": {
      "image/png": "[encoded data removed]",
      "text/plain": [
       "<Figure size 640x480 with 1 Axes>"
      ]
     },
     "metadata": {},
     "output_type": "display_data"
    }
   ],
   "source": [
    "label_counts = df['labels'].value_counts()\n",
    "colors = sns.color_palette('pastel', len(label_counts))\n",
    "sns.barplot(x = label_counts.index, y = label_counts.values, palette = colors)\n",
    "plt.xlabel('Label')\n",
    "plt.ylabel('Number of Images')\n",
    "plt.title('Distribution of Images by Label')\n",
    "for i, v in enumerate(label_counts.values):\n",
    "    plt.text(i, v+10, str(v), ha='center')"
   ]
  },
  {
   "cell_type": "markdown",
   "id": "cd52bbef",
   "metadata": {},
   "source": [
    "## Load Model"
   ]
  },
  {
   "cell_type": "code",
   "execution_count": 5,
   "id": "6248f437",
   "metadata": {},
   "outputs": [
    {
     "name": "stdout",
     "output_type": "stream",
     "text": [
      "Metal device set to: Apple M2\n"
     ]
    },
    {
     "name": "stderr",
     "output_type": "stream",
     "text": [
      "2023-04-24 06:36:38.246941: I tensorflow/core/common_runtime/pluggable_device/pluggable_device_factory.cc:305] Could not identify NUMA node of platform GPU ID 0, defaulting to 0. Your kernel may not have been built with NUMA support.\n",
      "2023-04-24 06:36:38.247374: I tensorflow/core/common_runtime/pluggable_device/pluggable_device_factory.cc:271] Created TensorFlow device (/job:localhost/replica:0/task:0/device:GPU:0 with 0 MB memory) -> physical PluggableDevice (device: 0, name: METAL, pci bus id: <undefined>)\n"
     ]
    }
   ],
   "source": [
    "from keras.models import load_model \n",
    "from PIL import Image, ImageOps  # Install pillow instead of PIL\n",
    "import numpy as np\n",
    "\n",
    "# Disable scientific notation for clarity\n",
    "np.set_printoptions(suppress=True)\n",
    "\n",
    "# Load the model\n",
    "model = load_model('/Users/kang/Desktop/Py_Projects/chest-xray-pneumonia/trained model/keras_Model.h5', compile=False)\n",
    "\n",
    "# Load the labels\n",
    "with open('/Users/kang/Desktop/Py_Projects/chest-xray-pneumonia/trained model/labels.txt', 'r') as f:\n",
    "    class_names = [line.strip() for line in f.readlines()]"
   ]
  },
  {
   "cell_type": "markdown",
   "id": "2b0c9060",
   "metadata": {},
   "source": [
    "## Prediction"
   ]
  },
  {
   "cell_type": "code",
   "execution_count": 6,
   "id": "fa01ecfc",
   "metadata": {
    "scrolled": true
   },
   "outputs": [
    {
     "name": "stderr",
     "output_type": "stream",
     "text": [
      "2023-04-24 06:36:39.449927: W tensorflow/core/platform/profile_utils/cpu_utils.cc:128] Failed to get CPU frequency: 0 Hz\n",
      "2023-04-24 06:36:39.660354: I tensorflow/core/grappler/optimizers/custom_graph_optimizer_registry.cc:112] Plugin optimizer for device_type GPU is enabled.\n"
     ]
    }
   ],
   "source": [
    "from PIL import Image, ImageOps\n",
    "\n",
    "# Create the array of the right shape to feed into the keras model\n",
    "# The 'length' or number of images you can put into the array is\n",
    "# determined by the first position in the shape tuple, in this case 1\n",
    "data = np.ndarray(shape=(1, 224, 224, 3), dtype=np.float32)\n",
    "prediction_labels = []\n",
    "true_labels = df['labels'].tolist()\n",
    "# Loop over all images in the DataFrame\n",
    "for i, row in df.iterrows():\n",
    "    # Load the image\n",
    "    image = Image.open(row['filepaths']).convert(\"RGB\")\n",
    "\n",
    "    # Resize and crop the image\n",
    "    size = (224, 224)\n",
    "    image = ImageOps.fit(image, size, Image.Resampling.LANCZOS)\n",
    "\n",
    "    # Convert the image to a numpy array and normalize it\n",
    "    image_array = np.asarray(image)\n",
    "    normalized_image_array = (image_array.astype(np.float32) / 127.5) - 1\n",
    "\n",
    "    # Load the normalized image into the array\n",
    "    data[0] = normalized_image_array\n",
    "\n",
    "    # Predict the class probabilities using the model\n",
    "    prediction = model.predict(data)\n",
    "\n",
    "    # Get the index of the class with the highest probability\n",
    "    index = np.argmax(prediction)\n",
    "\n",
    "    # Get the name of the predicted class and the confidence score\n",
    "    class_name = class_names[index]\n",
    "    prediction_labels.append(class_name[2:])\n",
    "    confidence_score = prediction[0][index]\n",
    "\n",
    "    # Print the prediction and confidence score for this image\n",
    "    #print(f\"Image {i}: Class: {class_name}, Confidence Score: {confidence_score}\")"
   ]
  },
  {
   "cell_type": "code",
   "execution_count": 7,
   "id": "d89c6016",
   "metadata": {},
   "outputs": [
    {
     "name": "stdout",
     "output_type": "stream",
     "text": [
      "Accuracy: 0.6233974358974359\n"
     ]
    }
   ],
   "source": [
    "num_correct = sum([1 for i in range(len(prediction_labels)) if prediction_labels[i] == true_labels[i]])\n",
    "accuracy = num_correct / len(prediction_labels)\n",
    "print(f\"Accuracy: {accuracy}\")"
   ]
  }
 ],
 "metadata": {
  "kernelspec": {
   "display_name": "Python 3 (ipykernel)",
   "language": "python",
   "name": "python3"
  },
  "language_info": {
   "codemirror_mode": {
    "name": "ipython",
    "version": 3
   },
   "file_extension": ".py",
   "mimetype": "text/x-python",
   "name": "python",
   "nbconvert_exporter": "python",
   "pygments_lexer": "ipython3",
   "version": "3.9.16"
  },
  "toc": {
   "base_numbering": 1,
   "nav_menu": {},
   "number_sections": false,
   "sideBar": true,
   "skip_h1_title": false,
   "title_cell": "Table of Contents",
   "title_sidebar": "Contents",
   "toc_cell": false,
   "toc_position": {},
   "toc_section_display": true,
   "toc_window_display": false
  }
 },
 "nbformat": 4,
 "nbformat_minor": 5
}
