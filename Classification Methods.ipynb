{
 "cells": [
  {
   "cell_type": "markdown",
   "id": "0e1970a2",
   "metadata": {},
   "source": [
    "# Classification Methods\n",
    "---\n",
    " - Logistic Regression\n",
    " - Discriminant Analysis: LDA/QDA/Naive Bayes\n",
    " - K-Nearest Neighbors\n",
    " - Decision Trees\n",
    " - Random Forests\n",
    " - Support Vector Machines"
   ]
  },
  {
   "cell_type": "code",
   "execution_count": 1,
   "id": "6300644f",
   "metadata": {},
   "outputs": [],
   "source": [
    "import io\n",
    "import time\n",
    "import requests\n",
    "import numpy as np\n",
    "import pandas as pd\n",
    "import seaborn as sns\n",
    "import matplotlib.pyplot as plt\n",
    "from sklearn.model_selection import TimeSeriesSplit, GridSearchCV\n",
    "from sklearn.preprocessing import StandardScaler\n",
    "from sklearn.compose import ColumnTransformer\n",
    "from sklearn.pipeline import Pipeline\n",
    "from sklearn.metrics import accuracy_score, roc_auc_score\n",
    "from sklearn.linear_model import LogisticRegression\n",
    "from sklearn.discriminant_analysis import LinearDiscriminantAnalysis, QuadraticDiscriminantAnalysis \n",
    "from sklearn.naive_bayes import GaussianNB\n",
    "from sklearn.neighbors import KNeighborsClassifier\n",
    "from sklearn.tree import DecisionTreeClassifier\n",
    "from sklearn.ensemble import RandomForestClassifier\n",
    "from sklearn.svm import SVC\n",
    "\n",
    "import warnings\n",
    "warnings.filterwarnings('ignore')"
   ]
  },
  {
   "cell_type": "markdown",
   "id": "fbd1985e",
   "metadata": {},
   "source": [
    "## 0 Data"
   ]
  },
  {
   "cell_type": "code",
   "execution_count": 2,
   "id": "2e35e23e",
   "metadata": {},
   "outputs": [
    {
     "data": {
      "text/html": [
       "<div>\n",
       "<style scoped>\n",
       "    .dataframe tbody tr th:only-of-type {\n",
       "        vertical-align: middle;\n",
       "    }\n",
       "\n",
       "    .dataframe tbody tr th {\n",
       "        vertical-align: top;\n",
       "    }\n",
       "\n",
       "    .dataframe thead th {\n",
       "        text-align: right;\n",
       "    }\n",
       "</style>\n",
       "<table border=\"1\" class=\"dataframe\">\n",
       "  <thead>\n",
       "    <tr style=\"text-align: right;\">\n",
       "      <th></th>\n",
       "      <th>Year</th>\n",
       "      <th>Lag1</th>\n",
       "      <th>Lag2</th>\n",
       "      <th>Lag3</th>\n",
       "      <th>Lag4</th>\n",
       "      <th>Lag5</th>\n",
       "      <th>Volume</th>\n",
       "      <th>Today</th>\n",
       "      <th>Direction</th>\n",
       "    </tr>\n",
       "  </thead>\n",
       "  <tbody>\n",
       "    <tr>\n",
       "      <th>0</th>\n",
       "      <td>1990</td>\n",
       "      <td>0.816</td>\n",
       "      <td>1.572</td>\n",
       "      <td>-3.936</td>\n",
       "      <td>-0.229</td>\n",
       "      <td>-3.484</td>\n",
       "      <td>0.154976</td>\n",
       "      <td>-0.270</td>\n",
       "      <td>Down</td>\n",
       "    </tr>\n",
       "    <tr>\n",
       "      <th>1</th>\n",
       "      <td>1990</td>\n",
       "      <td>-0.270</td>\n",
       "      <td>0.816</td>\n",
       "      <td>1.572</td>\n",
       "      <td>-3.936</td>\n",
       "      <td>-0.229</td>\n",
       "      <td>0.148574</td>\n",
       "      <td>-2.576</td>\n",
       "      <td>Down</td>\n",
       "    </tr>\n",
       "    <tr>\n",
       "      <th>2</th>\n",
       "      <td>1990</td>\n",
       "      <td>-2.576</td>\n",
       "      <td>-0.270</td>\n",
       "      <td>0.816</td>\n",
       "      <td>1.572</td>\n",
       "      <td>-3.936</td>\n",
       "      <td>0.159837</td>\n",
       "      <td>3.514</td>\n",
       "      <td>Up</td>\n",
       "    </tr>\n",
       "    <tr>\n",
       "      <th>3</th>\n",
       "      <td>1990</td>\n",
       "      <td>3.514</td>\n",
       "      <td>-2.576</td>\n",
       "      <td>-0.270</td>\n",
       "      <td>0.816</td>\n",
       "      <td>1.572</td>\n",
       "      <td>0.161630</td>\n",
       "      <td>0.712</td>\n",
       "      <td>Up</td>\n",
       "    </tr>\n",
       "    <tr>\n",
       "      <th>4</th>\n",
       "      <td>1990</td>\n",
       "      <td>0.712</td>\n",
       "      <td>3.514</td>\n",
       "      <td>-2.576</td>\n",
       "      <td>-0.270</td>\n",
       "      <td>0.816</td>\n",
       "      <td>0.153728</td>\n",
       "      <td>1.178</td>\n",
       "      <td>Up</td>\n",
       "    </tr>\n",
       "  </tbody>\n",
       "</table>\n",
       "</div>"
      ],
      "text/plain": [
       "   Year   Lag1   Lag2   Lag3   Lag4   Lag5    Volume  Today Direction\n",
       "0  1990  0.816  1.572 -3.936 -0.229 -3.484  0.154976 -0.270      Down\n",
       "1  1990 -0.270  0.816  1.572 -3.936 -0.229  0.148574 -2.576      Down\n",
       "2  1990 -2.576 -0.270  0.816  1.572 -3.936  0.159837  3.514        Up\n",
       "3  1990  3.514 -2.576 -0.270  0.816  1.572  0.161630  0.712        Up\n",
       "4  1990  0.712  3.514 -2.576 -0.270  0.816  0.153728  1.178        Up"
      ]
     },
     "execution_count": 2,
     "metadata": {},
     "output_type": "execute_result"
    }
   ],
   "source": [
    "url = \"https://raw.githubusercontent.com/katkatrina-K/Machine-Learning-Study/main/Data/weekly.csv\"\n",
    "s = requests.get(url).content\n",
    "Weekly = pd.read_csv(io.StringIO(s.decode('utf-8')))\n",
    "Weekly.head()"
   ]
  },
  {
   "cell_type": "markdown",
   "id": "aa020e8b",
   "metadata": {},
   "source": [
    " - Direction: A factor with levels Down and Up indicating whether the market had a positive or negative return on a given week\n",
    "- Year: The year that the observation was recorded  \n",
    " - Lag1: Percentage return for previous week  \n",
    " - Lag2: Percentage return for 2 weeks previous  \n",
    " - Lag3: Percentage return for 3 weeks previous  \n",
    " - Lag4: Percentage return for 4 weeks previous  \n",
    " - Lag5: Percentage return for 5 weeks previous  \n",
    " - Volume: Volume of shares traded (average number of daily shares traded in billions)\n",
    " - Today: Percentage return for this week  "
   ]
  },
  {
   "cell_type": "markdown",
   "id": "458b0b25",
   "metadata": {},
   "source": [
    "#### Data Inspection"
   ]
  },
  {
   "cell_type": "code",
   "execution_count": 3,
   "id": "d201e195",
   "metadata": {},
   "outputs": [
    {
     "data": {
      "text/html": [
       "<div>\n",
       "<style scoped>\n",
       "    .dataframe tbody tr th:only-of-type {\n",
       "        vertical-align: middle;\n",
       "    }\n",
       "\n",
       "    .dataframe tbody tr th {\n",
       "        vertical-align: top;\n",
       "    }\n",
       "\n",
       "    .dataframe thead th {\n",
       "        text-align: right;\n",
       "    }\n",
       "</style>\n",
       "<table border=\"1\" class=\"dataframe\">\n",
       "  <thead>\n",
       "    <tr style=\"text-align: right;\">\n",
       "      <th></th>\n",
       "      <th>Year</th>\n",
       "      <th>Lag1</th>\n",
       "      <th>Lag2</th>\n",
       "      <th>Lag3</th>\n",
       "      <th>Lag4</th>\n",
       "      <th>Lag5</th>\n",
       "      <th>Volume</th>\n",
       "      <th>Today</th>\n",
       "    </tr>\n",
       "  </thead>\n",
       "  <tbody>\n",
       "    <tr>\n",
       "      <th>count</th>\n",
       "      <td>1089.000000</td>\n",
       "      <td>1089.000000</td>\n",
       "      <td>1089.000000</td>\n",
       "      <td>1089.000000</td>\n",
       "      <td>1089.000000</td>\n",
       "      <td>1089.000000</td>\n",
       "      <td>1089.000000</td>\n",
       "      <td>1089.000000</td>\n",
       "    </tr>\n",
       "    <tr>\n",
       "      <th>mean</th>\n",
       "      <td>2000.048669</td>\n",
       "      <td>0.150585</td>\n",
       "      <td>0.151079</td>\n",
       "      <td>0.147205</td>\n",
       "      <td>0.145818</td>\n",
       "      <td>0.139893</td>\n",
       "      <td>1.574618</td>\n",
       "      <td>0.149899</td>\n",
       "    </tr>\n",
       "    <tr>\n",
       "      <th>std</th>\n",
       "      <td>6.033182</td>\n",
       "      <td>2.357013</td>\n",
       "      <td>2.357254</td>\n",
       "      <td>2.360502</td>\n",
       "      <td>2.360279</td>\n",
       "      <td>2.361285</td>\n",
       "      <td>1.686636</td>\n",
       "      <td>2.356927</td>\n",
       "    </tr>\n",
       "    <tr>\n",
       "      <th>min</th>\n",
       "      <td>1990.000000</td>\n",
       "      <td>-18.195000</td>\n",
       "      <td>-18.195000</td>\n",
       "      <td>-18.195000</td>\n",
       "      <td>-18.195000</td>\n",
       "      <td>-18.195000</td>\n",
       "      <td>0.087465</td>\n",
       "      <td>-18.195000</td>\n",
       "    </tr>\n",
       "    <tr>\n",
       "      <th>25%</th>\n",
       "      <td>1995.000000</td>\n",
       "      <td>-1.154000</td>\n",
       "      <td>-1.154000</td>\n",
       "      <td>-1.158000</td>\n",
       "      <td>-1.158000</td>\n",
       "      <td>-1.166000</td>\n",
       "      <td>0.332022</td>\n",
       "      <td>-1.154000</td>\n",
       "    </tr>\n",
       "    <tr>\n",
       "      <th>50%</th>\n",
       "      <td>2000.000000</td>\n",
       "      <td>0.241000</td>\n",
       "      <td>0.241000</td>\n",
       "      <td>0.241000</td>\n",
       "      <td>0.238000</td>\n",
       "      <td>0.234000</td>\n",
       "      <td>1.002680</td>\n",
       "      <td>0.241000</td>\n",
       "    </tr>\n",
       "    <tr>\n",
       "      <th>75%</th>\n",
       "      <td>2005.000000</td>\n",
       "      <td>1.405000</td>\n",
       "      <td>1.409000</td>\n",
       "      <td>1.409000</td>\n",
       "      <td>1.409000</td>\n",
       "      <td>1.405000</td>\n",
       "      <td>2.053727</td>\n",
       "      <td>1.405000</td>\n",
       "    </tr>\n",
       "    <tr>\n",
       "      <th>max</th>\n",
       "      <td>2010.000000</td>\n",
       "      <td>12.026000</td>\n",
       "      <td>12.026000</td>\n",
       "      <td>12.026000</td>\n",
       "      <td>12.026000</td>\n",
       "      <td>12.026000</td>\n",
       "      <td>9.328214</td>\n",
       "      <td>12.026000</td>\n",
       "    </tr>\n",
       "  </tbody>\n",
       "</table>\n",
       "</div>"
      ],
      "text/plain": [
       "              Year         Lag1         Lag2         Lag3         Lag4  \\\n",
       "count  1089.000000  1089.000000  1089.000000  1089.000000  1089.000000   \n",
       "mean   2000.048669     0.150585     0.151079     0.147205     0.145818   \n",
       "std       6.033182     2.357013     2.357254     2.360502     2.360279   \n",
       "min    1990.000000   -18.195000   -18.195000   -18.195000   -18.195000   \n",
       "25%    1995.000000    -1.154000    -1.154000    -1.158000    -1.158000   \n",
       "50%    2000.000000     0.241000     0.241000     0.241000     0.238000   \n",
       "75%    2005.000000     1.405000     1.409000     1.409000     1.409000   \n",
       "max    2010.000000    12.026000    12.026000    12.026000    12.026000   \n",
       "\n",
       "              Lag5       Volume        Today  \n",
       "count  1089.000000  1089.000000  1089.000000  \n",
       "mean      0.139893     1.574618     0.149899  \n",
       "std       2.361285     1.686636     2.356927  \n",
       "min     -18.195000     0.087465   -18.195000  \n",
       "25%      -1.166000     0.332022    -1.154000  \n",
       "50%       0.234000     1.002680     0.241000  \n",
       "75%       1.405000     2.053727     1.405000  \n",
       "max      12.026000     9.328214    12.026000  "
      ]
     },
     "execution_count": 3,
     "metadata": {},
     "output_type": "execute_result"
    }
   ],
   "source": [
    "Weekly.describe()"
   ]
  },
  {
   "cell_type": "markdown",
   "id": "d438e07b",
   "metadata": {},
   "source": [
    "#### Pairwise Correlations"
   ]
  },
  {
   "cell_type": "code",
   "execution_count": 4,
   "id": "f8db8e4a",
   "metadata": {},
   "outputs": [
    {
     "data": {
      "text/plain": [
       "Text(0.5, 1.0, 'Correlation Heatmap')"
      ]
     },
     "execution_count": 4,
     "metadata": {},
     "output_type": "execute_result"
    },
    {
     "data": {
      "image/png": "[encoded data removed]",
      "text/plain": [
       "<Figure size 800x600 with 2 Axes>"
      ]
     },
     "metadata": {},
     "output_type": "display_data"
    }
   ],
   "source": [
    "corr = Weekly.corr()\n",
    "plt.figure(figsize = (8,6))\n",
    "mask = np.zeros_like(corr, dtype = np.bool)\n",
    "mask[np.triu_indices_from(mask)] = True\n",
    "sns.heatmap(corr, annot = True, cmap = 'coolwarm', mask = mask)\n",
    "plt.title('Correlation Heatmap')"
   ]
  },
  {
   "cell_type": "markdown",
   "id": "077d5d4c",
   "metadata": {},
   "source": [
    "The correlation coefficients between variables reveal that almost all variables are not correlated with each other, except for year and volume."
   ]
  },
  {
   "cell_type": "code",
   "execution_count": 5,
   "id": "9d37a1fa",
   "metadata": {},
   "outputs": [
    {
     "data": {
      "text/plain": [
       "Text(0.5, 1.0, 'Weekly Volume from 1990 to 2010')"
      ]
     },
     "execution_count": 5,
     "metadata": {},
     "output_type": "execute_result"
    },
    {
     "data": {
      "image/png": "[encoded data removed]",
      "text/plain": [
       "<Figure size 1200x500 with 1 Axes>"
      ]
     },
     "metadata": {},
     "output_type": "display_data"
    }
   ],
   "source": [
    "start_date = '1990-01-01'\n",
    "date_range = pd.date_range(start_date, periods = 1089, freq = 'W')\n",
    "plt.figure(figsize = (12,5))\n",
    "sns.lineplot(x = date_range, y = Weekly.Volume)\n",
    "plt.title('Weekly Volume from 1990 to 2010')"
   ]
  },
  {
   "cell_type": "markdown",
   "id": "e8499178",
   "metadata": {},
   "source": [
    "#### Data Balance Problems"
   ]
  },
  {
   "cell_type": "code",
   "execution_count": 6,
   "id": "900bfc49",
   "metadata": {},
   "outputs": [
    {
     "data": {
      "image/png": "[encoded data removed]",
      "text/plain": [
       "<Figure size 640x480 with 1 Axes>"
      ]
     },
     "metadata": {},
     "output_type": "display_data"
    }
   ],
   "source": [
    "class_counts = Weekly.Direction.value_counts()\n",
    "class_counts.plot(kind='bar', color=['blue', 'orange'])\n",
    "plt.xticks(rotation = 0)\n",
    "plt.title('Class Distribution')\n",
    "plt.show()"
   ]
  },
  {
   "cell_type": "markdown",
   "id": "4aa4abb8",
   "metadata": {},
   "source": [
    "It looks like the data is relatively balanced."
   ]
  },
  {
   "cell_type": "markdown",
   "id": "2a27a3b9",
   "metadata": {},
   "source": [
    "#### Preprocessing"
   ]
  },
  {
   "cell_type": "code",
   "execution_count": 7,
   "id": "1ca4b9d2",
   "metadata": {},
   "outputs": [],
   "source": [
    "seed = 45"
   ]
  },
  {
   "cell_type": "code",
   "execution_count": 8,
   "id": "42879643",
   "metadata": {},
   "outputs": [
    {
     "name": "stdout",
     "output_type": "stream",
     "text": [
      "Train Sets:  (871, 9)\n",
      "Test Sets:  (218, 9)\n"
     ]
    }
   ],
   "source": [
    "# Split data into 80/20 in out of sample\n",
    "Weekly['Direction'] = Weekly['Direction'].apply(lambda x: 1 if x == 'Up' else 0)\n",
    "train_size = int(0.8 * len(Weekly))\n",
    "Weekly_train = Weekly[:train_size]\n",
    "Weekly_test = Weekly[train_size:]\n",
    "print('Train Sets: ', Weekly_train.shape)\n",
    "print('Test Sets: ', Weekly_test.shape)"
   ]
  },
  {
   "cell_type": "code",
   "execution_count": 9,
   "id": "dc9b5352",
   "metadata": {},
   "outputs": [],
   "source": [
    "# Split X and y\n",
    "X_train = Weekly_train.drop(['Direction', 'Today', 'Year'], axis = 1)\n",
    "y_train = Weekly_train.Direction\n",
    "X_test = Weekly_test.drop(['Direction', 'Today', 'Year'], axis = 1)\n",
    "y_test = Weekly_test.Direction"
   ]
  },
  {
   "cell_type": "code",
   "execution_count": 10,
   "id": "e494c496",
   "metadata": {},
   "outputs": [],
   "source": [
    "# Preprocessing\n",
    "num_features = X_train.columns\n",
    "\n",
    "num_tf = Pipeline(steps = [('scaler', StandardScaler())])\n",
    "col_tf = ColumnTransformer(transformers = [('num', num_tf, num_features)])"
   ]
  },
  {
   "cell_type": "markdown",
   "id": "f4537e2a",
   "metadata": {},
   "source": [
    "## 1 Baseline Model"
   ]
  },
  {
   "cell_type": "code",
   "execution_count": 11,
   "id": "662f7ac4",
   "metadata": {},
   "outputs": [
    {
     "name": "stdout",
     "output_type": "stream",
     "text": [
      "test Accuracy: 0.5413 , test roc_auc: nan\n"
     ]
    }
   ],
   "source": [
    "most_frequent_class = y_train.mode()[0]\n",
    "y_pred_baseline = [most_frequent_class] * len(y_test)\n",
    "test_acc_baseline = accuracy_score(y_test, y_pred_baseline)\n",
    "test_auc_baseline = np.NaN\n",
    "print(f'test Accuracy: {test_acc_baseline:.4f}',',', f'test roc_auc: {test_auc_baseline:.4f}')"
   ]
  },
  {
   "cell_type": "markdown",
   "id": "cb756702",
   "metadata": {},
   "source": [
    "## 2 Logistic Regression"
   ]
  },
  {
   "cell_type": "markdown",
   "id": "ed77bc7d",
   "metadata": {},
   "source": [
    "#### Model"
   ]
  },
  {
   "cell_type": "code",
   "execution_count": 12,
   "id": "2b0b6a9f",
   "metadata": {},
   "outputs": [],
   "source": [
    "mod_log = LogisticRegression(solver = 'liblinear', max_iter = 10000, random_state = seed)\n",
    "pip_log = Pipeline(steps = [('col_tf', col_tf), ('model', mod_log)])"
   ]
  },
  {
   "cell_type": "markdown",
   "id": "ddb5a25b",
   "metadata": {},
   "source": [
    "#### Tuning Grid"
   ]
  },
  {
   "cell_type": "code",
   "execution_count": 13,
   "id": "eefe7c41",
   "metadata": {
    "scrolled": true
   },
   "outputs": [
    {
     "name": "stdout",
     "output_type": "stream",
     "text": [
      "Execution time: 1.6798701286315918 seconds\n"
     ]
    },
    {
     "data": {
      "text/html": [
       "<div>\n",
       "<style scoped>\n",
       "    .dataframe tbody tr th:only-of-type {\n",
       "        vertical-align: middle;\n",
       "    }\n",
       "\n",
       "    .dataframe tbody tr th {\n",
       "        vertical-align: top;\n",
       "    }\n",
       "\n",
       "    .dataframe thead th {\n",
       "        text-align: right;\n",
       "    }\n",
       "</style>\n",
       "<table border=\"1\" class=\"dataframe\">\n",
       "  <thead>\n",
       "    <tr style=\"text-align: right;\">\n",
       "      <th></th>\n",
       "      <th>Penalty</th>\n",
       "      <th>C</th>\n",
       "      <th>Accuracy</th>\n",
       "    </tr>\n",
       "  </thead>\n",
       "  <tbody>\n",
       "    <tr>\n",
       "      <th>0</th>\n",
       "      <td>l1</td>\n",
       "      <td>0.00001</td>\n",
       "      <td>0.440506</td>\n",
       "    </tr>\n",
       "    <tr>\n",
       "      <th>1</th>\n",
       "      <td>l2</td>\n",
       "      <td>0.00001</td>\n",
       "      <td>0.551899</td>\n",
       "    </tr>\n",
       "    <tr>\n",
       "      <th>2</th>\n",
       "      <td>l1</td>\n",
       "      <td>0.000023</td>\n",
       "      <td>0.440506</td>\n",
       "    </tr>\n",
       "    <tr>\n",
       "      <th>3</th>\n",
       "      <td>l2</td>\n",
       "      <td>0.000023</td>\n",
       "      <td>0.551899</td>\n",
       "    </tr>\n",
       "    <tr>\n",
       "      <th>4</th>\n",
       "      <td>l1</td>\n",
       "      <td>0.000055</td>\n",
       "      <td>0.440506</td>\n",
       "    </tr>\n",
       "    <tr>\n",
       "      <th>5</th>\n",
       "      <td>l2</td>\n",
       "      <td>0.000055</td>\n",
       "      <td>0.551899</td>\n",
       "    </tr>\n",
       "    <tr>\n",
       "      <th>6</th>\n",
       "      <td>l1</td>\n",
       "      <td>0.000127</td>\n",
       "      <td>0.440506</td>\n",
       "    </tr>\n",
       "    <tr>\n",
       "      <th>7</th>\n",
       "      <td>l2</td>\n",
       "      <td>0.000127</td>\n",
       "      <td>0.551899</td>\n",
       "    </tr>\n",
       "    <tr>\n",
       "      <th>8</th>\n",
       "      <td>l1</td>\n",
       "      <td>0.000298</td>\n",
       "      <td>0.440506</td>\n",
       "    </tr>\n",
       "    <tr>\n",
       "      <th>9</th>\n",
       "      <td>l2</td>\n",
       "      <td>0.000298</td>\n",
       "      <td>0.550633</td>\n",
       "    </tr>\n",
       "    <tr>\n",
       "      <th>10</th>\n",
       "      <td>l1</td>\n",
       "      <td>0.000695</td>\n",
       "      <td>0.440506</td>\n",
       "    </tr>\n",
       "    <tr>\n",
       "      <th>11</th>\n",
       "      <td>l2</td>\n",
       "      <td>0.000695</td>\n",
       "      <td>0.550633</td>\n",
       "    </tr>\n",
       "    <tr>\n",
       "      <th>12</th>\n",
       "      <td>l1</td>\n",
       "      <td>0.001624</td>\n",
       "      <td>0.440506</td>\n",
       "    </tr>\n",
       "    <tr>\n",
       "      <th>13</th>\n",
       "      <td>l2</td>\n",
       "      <td>0.001624</td>\n",
       "      <td>0.550633</td>\n",
       "    </tr>\n",
       "    <tr>\n",
       "      <th>14</th>\n",
       "      <td>l1</td>\n",
       "      <td>0.003793</td>\n",
       "      <td>0.440506</td>\n",
       "    </tr>\n",
       "    <tr>\n",
       "      <th>15</th>\n",
       "      <td>l2</td>\n",
       "      <td>0.003793</td>\n",
       "      <td>0.546835</td>\n",
       "    </tr>\n",
       "    <tr>\n",
       "      <th>16</th>\n",
       "      <td>l1</td>\n",
       "      <td>0.008859</td>\n",
       "      <td>0.440506</td>\n",
       "    </tr>\n",
       "    <tr>\n",
       "      <th>17</th>\n",
       "      <td>l2</td>\n",
       "      <td>0.008859</td>\n",
       "      <td>0.543038</td>\n",
       "    </tr>\n",
       "    <tr>\n",
       "      <th>18</th>\n",
       "      <td>l1</td>\n",
       "      <td>0.020691</td>\n",
       "      <td>0.440506</td>\n",
       "    </tr>\n",
       "    <tr>\n",
       "      <th>19</th>\n",
       "      <td>l2</td>\n",
       "      <td>0.020691</td>\n",
       "      <td>0.543038</td>\n",
       "    </tr>\n",
       "    <tr>\n",
       "      <th>20</th>\n",
       "      <td>l1</td>\n",
       "      <td>0.048329</td>\n",
       "      <td>0.503797</td>\n",
       "    </tr>\n",
       "    <tr>\n",
       "      <th>21</th>\n",
       "      <td>l2</td>\n",
       "      <td>0.048329</td>\n",
       "      <td>0.536709</td>\n",
       "    </tr>\n",
       "    <tr>\n",
       "      <th>22</th>\n",
       "      <td>l1</td>\n",
       "      <td>0.112884</td>\n",
       "      <td>0.537975</td>\n",
       "    </tr>\n",
       "    <tr>\n",
       "      <th>23</th>\n",
       "      <td>l2</td>\n",
       "      <td>0.112884</td>\n",
       "      <td>0.530380</td>\n",
       "    </tr>\n",
       "    <tr>\n",
       "      <th>24</th>\n",
       "      <td>l1</td>\n",
       "      <td>0.263665</td>\n",
       "      <td>0.543038</td>\n",
       "    </tr>\n",
       "    <tr>\n",
       "      <th>25</th>\n",
       "      <td>l2</td>\n",
       "      <td>0.263665</td>\n",
       "      <td>0.530380</td>\n",
       "    </tr>\n",
       "    <tr>\n",
       "      <th>26</th>\n",
       "      <td>l1</td>\n",
       "      <td>0.615848</td>\n",
       "      <td>0.536709</td>\n",
       "    </tr>\n",
       "    <tr>\n",
       "      <th>27</th>\n",
       "      <td>l2</td>\n",
       "      <td>0.615848</td>\n",
       "      <td>0.530380</td>\n",
       "    </tr>\n",
       "    <tr>\n",
       "      <th>28</th>\n",
       "      <td>l1</td>\n",
       "      <td>1.43845</td>\n",
       "      <td>0.529114</td>\n",
       "    </tr>\n",
       "    <tr>\n",
       "      <th>29</th>\n",
       "      <td>l2</td>\n",
       "      <td>1.43845</td>\n",
       "      <td>0.531646</td>\n",
       "    </tr>\n",
       "    <tr>\n",
       "      <th>30</th>\n",
       "      <td>l1</td>\n",
       "      <td>3.359818</td>\n",
       "      <td>0.525316</td>\n",
       "    </tr>\n",
       "    <tr>\n",
       "      <th>31</th>\n",
       "      <td>l2</td>\n",
       "      <td>3.359818</td>\n",
       "      <td>0.531646</td>\n",
       "    </tr>\n",
       "    <tr>\n",
       "      <th>32</th>\n",
       "      <td>l1</td>\n",
       "      <td>7.8476</td>\n",
       "      <td>0.532911</td>\n",
       "    </tr>\n",
       "    <tr>\n",
       "      <th>33</th>\n",
       "      <td>l2</td>\n",
       "      <td>7.8476</td>\n",
       "      <td>0.531646</td>\n",
       "    </tr>\n",
       "    <tr>\n",
       "      <th>34</th>\n",
       "      <td>l1</td>\n",
       "      <td>18.329807</td>\n",
       "      <td>0.532911</td>\n",
       "    </tr>\n",
       "    <tr>\n",
       "      <th>35</th>\n",
       "      <td>l2</td>\n",
       "      <td>18.329807</td>\n",
       "      <td>0.531646</td>\n",
       "    </tr>\n",
       "    <tr>\n",
       "      <th>36</th>\n",
       "      <td>l1</td>\n",
       "      <td>42.813324</td>\n",
       "      <td>0.532911</td>\n",
       "    </tr>\n",
       "    <tr>\n",
       "      <th>37</th>\n",
       "      <td>l2</td>\n",
       "      <td>42.813324</td>\n",
       "      <td>0.531646</td>\n",
       "    </tr>\n",
       "    <tr>\n",
       "      <th>38</th>\n",
       "      <td>l1</td>\n",
       "      <td>100.0</td>\n",
       "      <td>0.531646</td>\n",
       "    </tr>\n",
       "    <tr>\n",
       "      <th>39</th>\n",
       "      <td>l2</td>\n",
       "      <td>100.0</td>\n",
       "      <td>0.531646</td>\n",
       "    </tr>\n",
       "  </tbody>\n",
       "</table>\n",
       "</div>"
      ],
      "text/plain": [
       "   Penalty          C  Accuracy\n",
       "0       l1    0.00001  0.440506\n",
       "1       l2    0.00001  0.551899\n",
       "2       l1   0.000023  0.440506\n",
       "3       l2   0.000023  0.551899\n",
       "4       l1   0.000055  0.440506\n",
       "5       l2   0.000055  0.551899\n",
       "6       l1   0.000127  0.440506\n",
       "7       l2   0.000127  0.551899\n",
       "8       l1   0.000298  0.440506\n",
       "9       l2   0.000298  0.550633\n",
       "10      l1   0.000695  0.440506\n",
       "11      l2   0.000695  0.550633\n",
       "12      l1   0.001624  0.440506\n",
       "13      l2   0.001624  0.550633\n",
       "14      l1   0.003793  0.440506\n",
       "15      l2   0.003793  0.546835\n",
       "16      l1   0.008859  0.440506\n",
       "17      l2   0.008859  0.543038\n",
       "18      l1   0.020691  0.440506\n",
       "19      l2   0.020691  0.543038\n",
       "20      l1   0.048329  0.503797\n",
       "21      l2   0.048329  0.536709\n",
       "22      l1   0.112884  0.537975\n",
       "23      l2   0.112884  0.530380\n",
       "24      l1   0.263665  0.543038\n",
       "25      l2   0.263665  0.530380\n",
       "26      l1   0.615848  0.536709\n",
       "27      l2   0.615848  0.530380\n",
       "28      l1    1.43845  0.529114\n",
       "29      l2    1.43845  0.531646\n",
       "30      l1   3.359818  0.525316\n",
       "31      l2   3.359818  0.531646\n",
       "32      l1     7.8476  0.532911\n",
       "33      l2     7.8476  0.531646\n",
       "34      l1  18.329807  0.532911\n",
       "35      l2  18.329807  0.531646\n",
       "36      l1  42.813324  0.532911\n",
       "37      l2  42.813324  0.531646\n",
       "38      l1      100.0  0.531646\n",
       "39      l2      100.0  0.531646"
      ]
     },
     "execution_count": 13,
     "metadata": {},
     "output_type": "execute_result"
    }
   ],
   "source": [
    "# Tuning Parameter: penalty, C\n",
    "penalty_log = ['l1', 'l2']\n",
    "C_log = np.logspace(start = - 5, stop = 2, num = 20)\n",
    "param_log = {'model__penalty': penalty_log,\n",
    "             'model__C': C_log}\n",
    "\n",
    "# Cross-Validation\n",
    "search_log = GridSearchCV(pip_log, param_log, cv = TimeSeriesSplit(10), scoring = 'accuracy')\n",
    "tic = time.time()\n",
    "search_log.fit(X_train, y_train)\n",
    "toc = time.time()\n",
    "print('Execution time:', toc-tic, 'seconds')\n",
    "\n",
    "# CV Results\n",
    "cv_log = pd.DataFrame({'Penalty': search_log.cv_results_['param_model__penalty'],\n",
    "                       'C': search_log.cv_results_['param_model__C'],\n",
    "                       'Accuracy': search_log.cv_results_['mean_test_score']})\n",
    "cv_log"
   ]
  },
  {
   "cell_type": "code",
   "execution_count": 14,
   "id": "bb588c70",
   "metadata": {
    "scrolled": true
   },
   "outputs": [
    {
     "data": {
      "text/plain": [
       "<Figure size 800x500 with 0 Axes>"
      ]
     },
     "metadata": {},
     "output_type": "display_data"
    },
    {
     "data": {
      "image/png": "[encoded data removed]",
      "text/plain": [
       "<Figure size 562.75x500 with 1 Axes>"
      ]
     },
     "metadata": {},
     "output_type": "display_data"
    }
   ],
   "source": [
    "# CV Results Visualization\n",
    "plt.figure(figsize = (8,5))\n",
    "sns.relplot(data = cv_log, x = 'C', y = 'Accuracy', hue = 'Penalty').set(\n",
    "    xlabel = 'C', ylabel = 'Accuracy', xscale = 'log' )\n",
    "plt.show()"
   ]
  },
  {
   "cell_type": "code",
   "execution_count": 15,
   "id": "7dbe7105",
   "metadata": {},
   "outputs": [
    {
     "data": {
      "text/html": [
       "<style>#sk-container-id-1 {color: black;background-color: white;}#sk-container-id-1 pre{padding: 0;}#sk-container-id-1 div.sk-toggleable {background-color: white;}#sk-container-id-1 label.sk-toggleable__label {cursor: pointer;display: block;width: 100%;margin-bottom: 0;padding: 0.3em;box-sizing: border-box;text-align: center;}#sk-container-id-1 label.sk-toggleable__label-arrow:before {content: \"▸\";float: left;margin-right: 0.25em;color: #696969;}#sk-container-id-1 label.sk-toggleable__label-arrow:hover:before {color: black;}#sk-container-id-1 div.sk-estimator:hover label.sk-toggleable__label-arrow:before {color: black;}#sk-container-id-1 div.sk-toggleable__content {max-height: 0;max-width: 0;overflow: hidden;text-align: left;background-color: #f0f8ff;}#sk-container-id-1 div.sk-toggleable__content pre {margin: 0.2em;color: black;border-radius: 0.25em;background-color: #f0f8ff;}#sk-container-id-1 input.sk-toggleable__control:checked~div.sk-toggleable__content {max-height: 200px;max-width: 100%;overflow: auto;}#sk-container-id-1 input.sk-toggleable__control:checked~label.sk-toggleable__label-arrow:before {content: \"▾\";}#sk-container-id-1 div.sk-estimator input.sk-toggleable__control:checked~label.sk-toggleable__label {background-color: #d4ebff;}#sk-container-id-1 div.sk-label input.sk-toggleable__control:checked~label.sk-toggleable__label {background-color: #d4ebff;}#sk-container-id-1 input.sk-hidden--visually {border: 0;clip: rect(1px 1px 1px 1px);clip: rect(1px, 1px, 1px, 1px);height: 1px;margin: -1px;overflow: hidden;padding: 0;position: absolute;width: 1px;}#sk-container-id-1 div.sk-estimator {font-family: monospace;background-color: #f0f8ff;border: 1px dotted black;border-radius: 0.25em;box-sizing: border-box;margin-bottom: 0.5em;}#sk-container-id-1 div.sk-estimator:hover {background-color: #d4ebff;}#sk-container-id-1 div.sk-parallel-item::after {content: \"\";width: 100%;border-bottom: 1px solid gray;flex-grow: 1;}#sk-container-id-1 div.sk-label:hover label.sk-toggleable__label {background-color: #d4ebff;}#sk-container-id-1 div.sk-serial::before {content: \"\";position: absolute;border-left: 1px solid gray;box-sizing: border-box;top: 0;bottom: 0;left: 50%;z-index: 0;}#sk-container-id-1 div.sk-serial {display: flex;flex-direction: column;align-items: center;background-color: white;padding-right: 0.2em;padding-left: 0.2em;position: relative;}#sk-container-id-1 div.sk-item {position: relative;z-index: 1;}#sk-container-id-1 div.sk-parallel {display: flex;align-items: stretch;justify-content: center;background-color: white;position: relative;}#sk-container-id-1 div.sk-item::before, #sk-container-id-1 div.sk-parallel-item::before {content: \"\";position: absolute;border-left: 1px solid gray;box-sizing: border-box;top: 0;bottom: 0;left: 50%;z-index: -1;}#sk-container-id-1 div.sk-parallel-item {display: flex;flex-direction: column;z-index: 1;position: relative;background-color: white;}#sk-container-id-1 div.sk-parallel-item:first-child::after {align-self: flex-end;width: 50%;}#sk-container-id-1 div.sk-parallel-item:last-child::after {align-self: flex-start;width: 50%;}#sk-container-id-1 div.sk-parallel-item:only-child::after {width: 0;}#sk-container-id-1 div.sk-dashed-wrapped {border: 1px dashed gray;margin: 0 0.4em 0.5em 0.4em;box-sizing: border-box;padding-bottom: 0.4em;background-color: white;}#sk-container-id-1 div.sk-label label {font-family: monospace;font-weight: bold;display: inline-block;line-height: 1.2em;}#sk-container-id-1 div.sk-label-container {text-align: center;}#sk-container-id-1 div.sk-container {/* jupyter's `normalize.less` sets `[hidden] { display: none; }` but bootstrap.min.css set `[hidden] { display: none !important; }` so we also need the `!important` here to be able to override the default hidden behavior on the sphinx rendered scikit-learn.org. See: https://github.com/scikit-learn/scikit-learn/issues/21755 */display: inline-block !important;position: relative;}#sk-container-id-1 div.sk-text-repr-fallback {display: none;}</style><div id=\"sk-container-id-1\" class=\"sk-top-container\"><div class=\"sk-text-repr-fallback\"><pre>Pipeline(steps=[(&#x27;col_tf&#x27;,\n",
       "                 ColumnTransformer(transformers=[(&#x27;num&#x27;,\n",
       "                                                  Pipeline(steps=[(&#x27;scaler&#x27;,\n",
       "                                                                   StandardScaler())]),\n",
       "                                                  Index([&#x27;Lag1&#x27;, &#x27;Lag2&#x27;, &#x27;Lag3&#x27;, &#x27;Lag4&#x27;, &#x27;Lag5&#x27;, &#x27;Volume&#x27;], dtype=&#x27;object&#x27;))])),\n",
       "                (&#x27;model&#x27;,\n",
       "                 LogisticRegression(C=1e-05, max_iter=10000, random_state=45,\n",
       "                                    solver=&#x27;liblinear&#x27;))])</pre><b>In a Jupyter environment, please rerun this cell to show the HTML representation or trust the notebook. <br />On GitHub, the HTML representation is unable to render, please try loading this page with nbviewer.org.</b></div><div class=\"sk-container\" hidden><div class=\"sk-item sk-dashed-wrapped\"><div class=\"sk-label-container\"><div class=\"sk-label sk-toggleable\"><input class=\"sk-toggleable__control sk-hidden--visually\" id=\"sk-estimator-id-1\" type=\"checkbox\" ><label for=\"sk-estimator-id-1\" class=\"sk-toggleable__label sk-toggleable__label-arrow\">Pipeline</label><div class=\"sk-toggleable__content\"><pre>Pipeline(steps=[(&#x27;col_tf&#x27;,\n",
       "                 ColumnTransformer(transformers=[(&#x27;num&#x27;,\n",
       "                                                  Pipeline(steps=[(&#x27;scaler&#x27;,\n",
       "                                                                   StandardScaler())]),\n",
       "                                                  Index([&#x27;Lag1&#x27;, &#x27;Lag2&#x27;, &#x27;Lag3&#x27;, &#x27;Lag4&#x27;, &#x27;Lag5&#x27;, &#x27;Volume&#x27;], dtype=&#x27;object&#x27;))])),\n",
       "                (&#x27;model&#x27;,\n",
       "                 LogisticRegression(C=1e-05, max_iter=10000, random_state=45,\n",
       "                                    solver=&#x27;liblinear&#x27;))])</pre></div></div></div><div class=\"sk-serial\"><div class=\"sk-item sk-dashed-wrapped\"><div class=\"sk-label-container\"><div class=\"sk-label sk-toggleable\"><input class=\"sk-toggleable__control sk-hidden--visually\" id=\"sk-estimator-id-2\" type=\"checkbox\" ><label for=\"sk-estimator-id-2\" class=\"sk-toggleable__label sk-toggleable__label-arrow\">col_tf: ColumnTransformer</label><div class=\"sk-toggleable__content\"><pre>ColumnTransformer(transformers=[(&#x27;num&#x27;,\n",
       "                                 Pipeline(steps=[(&#x27;scaler&#x27;, StandardScaler())]),\n",
       "                                 Index([&#x27;Lag1&#x27;, &#x27;Lag2&#x27;, &#x27;Lag3&#x27;, &#x27;Lag4&#x27;, &#x27;Lag5&#x27;, &#x27;Volume&#x27;], dtype=&#x27;object&#x27;))])</pre></div></div></div><div class=\"sk-parallel\"><div class=\"sk-parallel-item\"><div class=\"sk-item\"><div class=\"sk-label-container\"><div class=\"sk-label sk-toggleable\"><input class=\"sk-toggleable__control sk-hidden--visually\" id=\"sk-estimator-id-3\" type=\"checkbox\" ><label for=\"sk-estimator-id-3\" class=\"sk-toggleable__label sk-toggleable__label-arrow\">num</label><div class=\"sk-toggleable__content\"><pre>Index([&#x27;Lag1&#x27;, &#x27;Lag2&#x27;, &#x27;Lag3&#x27;, &#x27;Lag4&#x27;, &#x27;Lag5&#x27;, &#x27;Volume&#x27;], dtype=&#x27;object&#x27;)</pre></div></div></div><div class=\"sk-serial\"><div class=\"sk-item\"><div class=\"sk-serial\"><div class=\"sk-item\"><div class=\"sk-estimator sk-toggleable\"><input class=\"sk-toggleable__control sk-hidden--visually\" id=\"sk-estimator-id-4\" type=\"checkbox\" ><label for=\"sk-estimator-id-4\" class=\"sk-toggleable__label sk-toggleable__label-arrow\">StandardScaler</label><div class=\"sk-toggleable__content\"><pre>StandardScaler()</pre></div></div></div></div></div></div></div></div></div></div><div class=\"sk-item\"><div class=\"sk-estimator sk-toggleable\"><input class=\"sk-toggleable__control sk-hidden--visually\" id=\"sk-estimator-id-5\" type=\"checkbox\" ><label for=\"sk-estimator-id-5\" class=\"sk-toggleable__label sk-toggleable__label-arrow\">LogisticRegression</label><div class=\"sk-toggleable__content\"><pre>LogisticRegression(C=1e-05, max_iter=10000, random_state=45, solver=&#x27;liblinear&#x27;)</pre></div></div></div></div></div></div></div>"
      ],
      "text/plain": [
       "Pipeline(steps=[('col_tf',\n",
       "                 ColumnTransformer(transformers=[('num',\n",
       "                                                  Pipeline(steps=[('scaler',\n",
       "                                                                   StandardScaler())]),\n",
       "                                                  Index(['Lag1', 'Lag2', 'Lag3', 'Lag4', 'Lag5', 'Volume'], dtype='object'))])),\n",
       "                ('model',\n",
       "                 LogisticRegression(C=1e-05, max_iter=10000, random_state=45,\n",
       "                                    solver='liblinear'))])"
      ]
     },
     "execution_count": 15,
     "metadata": {},
     "output_type": "execute_result"
    }
   ],
   "source": [
    "search_log.best_estimator_"
   ]
  },
  {
   "cell_type": "markdown",
   "id": "1f4f7e7e",
   "metadata": {},
   "source": [
    "#### Evaluation"
   ]
  },
  {
   "cell_type": "code",
   "execution_count": null,
   "id": "7699858d",
   "metadata": {},
   "outputs": [],
   "source": [
    "y_pred_log = search_log.best_estimator_.predict(X_test)\n",
    "test_acc_log = accuracy_score(y_test, y_pred_log)\n",
    "test_auc_log = roc_auc_score(y_test, y_pred_log)\n",
    "cv_acc_log = search_log.best_score_\n",
    "print(f'CV Accuracy: {cv_acc_log:.4f}')\n",
    "print(f'test Accuracy: {test_acc_log:.4f}',',', f'test roc_auc: {test_auc_log:.4f}')"
   ]
  },
  {
   "cell_type": "markdown",
   "id": "2c04dad9",
   "metadata": {},
   "source": [
    "## 3 Discriminant Analysis"
   ]
  },
  {
   "cell_type": "markdown",
   "id": "b08dbe37",
   "metadata": {},
   "source": [
    "### 3.1 Linear Discriminant Analysis "
   ]
  },
  {
   "cell_type": "markdown",
   "id": "26e91cf5",
   "metadata": {},
   "source": [
    "#### Model"
   ]
  },
  {
   "cell_type": "code",
   "execution_count": null,
   "id": "6ae31e8d",
   "metadata": {},
   "outputs": [],
   "source": [
    "mod_lda = LinearDiscriminantAnalysis()\n",
    "pip_lda = Pipeline(steps = [('col_tf', col_tf), ('model', mod_lda)])\n",
    "pip_lda.fit(X_train, y_train)"
   ]
  },
  {
   "cell_type": "markdown",
   "id": "09d4d369",
   "metadata": {},
   "source": [
    "#### Evaluation"
   ]
  },
  {
   "cell_type": "code",
   "execution_count": null,
   "id": "b8fe586d",
   "metadata": {},
   "outputs": [],
   "source": [
    "y_pred_lda = pip_lda.predict(X_test)\n",
    "test_acc_lda = accuracy_score(y_test, y_pred_lda)\n",
    "test_auc_lda = roc_auc_score(y_test, y_pred_lda)\n",
    "print(f'test Accuracy: {test_acc_lda:.4f}',',', f'test roc_auc: {test_auc_lda:.4f}')"
   ]
  },
  {
   "cell_type": "markdown",
   "id": "3cdfa069",
   "metadata": {},
   "source": [
    "### 3.2 Quadratic Discriminant Analysis\n"
   ]
  },
  {
   "cell_type": "markdown",
   "id": "67699ff5",
   "metadata": {},
   "source": [
    "#### Model"
   ]
  },
  {
   "cell_type": "code",
   "execution_count": null,
   "id": "47979e68",
   "metadata": {},
   "outputs": [],
   "source": [
    "mod_qda = QuadraticDiscriminantAnalysis()\n",
    "pip_qda = Pipeline(steps = [('col_tf', col_tf), ('model', mod_qda)])\n",
    "pip_qda.fit(X_train, y_train)"
   ]
  },
  {
   "cell_type": "markdown",
   "id": "35745f51",
   "metadata": {},
   "source": [
    "#### Evaluation"
   ]
  },
  {
   "cell_type": "code",
   "execution_count": null,
   "id": "ba93b5d8",
   "metadata": {},
   "outputs": [],
   "source": [
    "y_pred_qda = pip_qda.predict(X_test)\n",
    "test_acc_qda = accuracy_score(y_test, y_pred_qda)\n",
    "test_auc_qda = roc_auc_score(y_test, y_pred_qda)\n",
    "print(f'test Accuracy: {test_acc_qda:.4f}',',', f'test roc_auc: {test_auc_qda:.4f}')"
   ]
  },
  {
   "cell_type": "markdown",
   "id": "6288b164",
   "metadata": {},
   "source": [
    "### 3.3 Naive Bayes Classifier"
   ]
  },
  {
   "cell_type": "markdown",
   "id": "e1d79bf0",
   "metadata": {},
   "source": [
    "#### Model"
   ]
  },
  {
   "cell_type": "code",
   "execution_count": null,
   "id": "afb0763d",
   "metadata": {
    "scrolled": true
   },
   "outputs": [],
   "source": [
    "mod_nb = GaussianNB()\n",
    "pip_nb = Pipeline(steps = [('col_tf', col_tf), ('model', mod_nb)])\n",
    "pip_nb.fit(X_train, y_train)"
   ]
  },
  {
   "cell_type": "markdown",
   "id": "3d004003",
   "metadata": {},
   "source": [
    "#### Evaluation"
   ]
  },
  {
   "cell_type": "code",
   "execution_count": null,
   "id": "4435d165",
   "metadata": {},
   "outputs": [],
   "source": [
    "y_pred_nb = pip_nb.predict(X_test)\n",
    "test_acc_nb = accuracy_score(y_test, y_pred_nb)\n",
    "test_auc_nb = roc_auc_score(y_test, y_pred_nb)\n",
    "print(f'test Accuracy: {test_acc_nb:.4f}',',', f'test roc_auc: {test_auc_nb:.4f}')"
   ]
  },
  {
   "cell_type": "markdown",
   "id": "30064c67",
   "metadata": {},
   "source": [
    "## 4 K-Nearest Neighbors Classifier"
   ]
  },
  {
   "cell_type": "markdown",
   "id": "a425e465",
   "metadata": {},
   "source": [
    "#### Model"
   ]
  },
  {
   "cell_type": "code",
   "execution_count": null,
   "id": "6aa2a68d",
   "metadata": {},
   "outputs": [],
   "source": [
    "mod_knn = KNeighborsClassifier(n_neighbors = 5)\n",
    "pip_knn = Pipeline(steps = [('col_tf', col_tf), ('model', mod_knn)])"
   ]
  },
  {
   "cell_type": "markdown",
   "id": "5d9823f1",
   "metadata": {},
   "source": [
    "#### Tuning Grid"
   ]
  },
  {
   "cell_type": "code",
   "execution_count": null,
   "id": "3bb250cb",
   "metadata": {
    "scrolled": true
   },
   "outputs": [],
   "source": [
    "# Tuning Parameter: n_neighbors\n",
    "n_knn = np.arange(3,30)\n",
    "param_knn = {'model__n_neighbors': n_knn}\n",
    "\n",
    "# Cross-Validation\n",
    "search_knn = GridSearchCV(pip_knn, param_knn, cv = TimeSeriesSplit(10), scoring = 'accuracy')\n",
    "tic = time.time()\n",
    "search_knn.fit(X_train, y_train)\n",
    "toc = time.time()\n",
    "print('Execution time:', toc-tic, 'seconds')\n",
    "\n",
    "# CV Results\n",
    "cv_knn = pd.DataFrame({'n_neighbours': search_knn.cv_results_['param_model__n_neighbors'],\n",
    "                       'Accuracy': search_knn.cv_results_['mean_test_score']})\n",
    "cv_knn"
   ]
  },
  {
   "cell_type": "code",
   "execution_count": null,
   "id": "76be3344",
   "metadata": {
    "scrolled": true
   },
   "outputs": [],
   "source": [
    "# CV Results Visualization\n",
    "plt.figure(figsize = (8,5))\n",
    "sns.relplot(data = cv_knn, x = 'n_neighbours', y = 'Accuracy').set(\n",
    "    xlabel = 'n_neighbours', ylabel = 'Accuracy' )\n",
    "plt.show()"
   ]
  },
  {
   "cell_type": "code",
   "execution_count": null,
   "id": "e788bc88",
   "metadata": {},
   "outputs": [],
   "source": [
    "search_knn.best_estimator_"
   ]
  },
  {
   "cell_type": "markdown",
   "id": "7ed1d30b",
   "metadata": {},
   "source": [
    "#### Evaluation"
   ]
  },
  {
   "cell_type": "code",
   "execution_count": null,
   "id": "58bee963",
   "metadata": {},
   "outputs": [],
   "source": [
    "y_pred_knn = search_knn.best_estimator_.predict(X_test)\n",
    "test_acc_knn = accuracy_score(y_test, y_pred_knn)\n",
    "test_auc_knn = roc_auc_score(y_test, y_pred_knn)\n",
    "cv_acc_knn = search_knn.best_score_\n",
    "print(f'CV Accuracy: {cv_acc_knn:.4f}')\n",
    "print(f'test Accuracy: {test_acc_knn:.4f}',',', f'test roc_auc: {test_auc_knn:.4f}')"
   ]
  },
  {
   "cell_type": "markdown",
   "id": "48026c25",
   "metadata": {},
   "source": [
    "## 5 Decision Trees"
   ]
  },
  {
   "cell_type": "markdown",
   "id": "fcf5c0be",
   "metadata": {},
   "source": [
    "#### Model"
   ]
  },
  {
   "cell_type": "code",
   "execution_count": null,
   "id": "00febf66",
   "metadata": {},
   "outputs": [],
   "source": [
    "mod_tree = DecisionTreeClassifier(criterion = 'gini', random_state = seed)\n",
    "pip_tree = Pipeline(steps = [('col_tf', col_tf), ('model', mod_tree)])"
   ]
  },
  {
   "cell_type": "markdown",
   "id": "b38e2731",
   "metadata": {},
   "source": [
    "#### Tuning Grid"
   ]
  },
  {
   "cell_type": "code",
   "execution_count": null,
   "id": "064531a6",
   "metadata": {},
   "outputs": [],
   "source": [
    "# Tuning Parameter: ccp_alpha\n",
    "ccp_alpha_tree = np.linspace(start = 0.0, stop = 0.03, num = 100)\n",
    "param_tree = {'model__ccp_alpha': ccp_alpha_tree}\n",
    "\n",
    "# Cross-Validation\n",
    "search_tree = GridSearchCV(pip_tree, param_tree, cv = TimeSeriesSplit(10), scoring = 'accuracy', refit = True)\n",
    "tic = time.time()\n",
    "search_tree.fit(X_train, y_train)\n",
    "toc = time.time()\n",
    "print('Execution time:', toc-tic, 'seconds')\n",
    "\n",
    "# CV Results\n",
    "cv_tree = pd.DataFrame({'ccp_alpha': search_tree.cv_results_['param_model__ccp_alpha'],\n",
    "                       'Accuracy': search_tree.cv_results_['mean_test_score']})\n",
    "cv_tree"
   ]
  },
  {
   "cell_type": "code",
   "execution_count": null,
   "id": "5599cd58",
   "metadata": {},
   "outputs": [],
   "source": [
    "# CV Results Visualization\n",
    "plt.figure(figsize = (8,5))\n",
    "sns.relplot(data = cv_tree, x = 'ccp_alpha', y = 'Accuracy').set(\n",
    "    xlabel = 'ccp_alpha', ylabel = 'Accuracy' )\n",
    "plt.show()"
   ]
  },
  {
   "cell_type": "code",
   "execution_count": null,
   "id": "66311d88",
   "metadata": {},
   "outputs": [],
   "source": [
    "search_tree.best_estimator_"
   ]
  },
  {
   "cell_type": "markdown",
   "id": "b60cb2c5",
   "metadata": {},
   "source": [
    "#### Evaluation"
   ]
  },
  {
   "cell_type": "code",
   "execution_count": null,
   "id": "9b36df29",
   "metadata": {},
   "outputs": [],
   "source": [
    "y_pred_tree = search_tree.predict(X_test)\n",
    "test_acc_tree = accuracy_score(y_test, y_pred_tree)\n",
    "test_auc_tree = roc_auc_score(y_test, y_pred_tree)\n",
    "cv_acc_tree = search_tree.best_score_\n",
    "print(f'CV Accuracy: {cv_acc_tree:.4f}')\n",
    "print(f'test Accuracy: {test_acc_tree:.4f}',',', f'test roc_auc: {test_auc_tree:.4f}')"
   ]
  },
  {
   "cell_type": "markdown",
   "id": "c9397031",
   "metadata": {},
   "source": [
    "## 6 Random Forests"
   ]
  },
  {
   "cell_type": "markdown",
   "id": "3b0e4fdb",
   "metadata": {},
   "source": [
    "#### Model"
   ]
  },
  {
   "cell_type": "code",
   "execution_count": null,
   "id": "0de452ac",
   "metadata": {},
   "outputs": [],
   "source": [
    "mod_rf = RandomForestClassifier(n_estimators = 100, criterion = 'gini',\n",
    "                                max_features = 'sqrt', oob_score = True,\n",
    "                                random_state = seed)\n",
    "pip_rf = Pipeline(steps = [('col_tf', col_tf), ('model', mod_rf)])"
   ]
  },
  {
   "cell_type": "markdown",
   "id": "8bbfee2c",
   "metadata": {},
   "source": [
    "#### Tuning Grid"
   ]
  },
  {
   "cell_type": "code",
   "execution_count": null,
   "id": "59453f90",
   "metadata": {
    "scrolled": true
   },
   "outputs": [],
   "source": [
    "# Tuning Parameter: n_estimators, max_features\n",
    "n_estimators_rf = [50, 100, 150, 200, 250, 300]\n",
    "max_features_rf = ['sqrt', 'log2', 1.0]\n",
    "param_rf = {'model__n_estimators': n_estimators_rf,\n",
    "              'model__max_features': max_features_rf}\n",
    "\n",
    "# Cross-Validation\n",
    "search_rf = GridSearchCV(pip_rf, param_rf, cv = TimeSeriesSplit(10), scoring = 'accuracy', refit = True)\n",
    "tic = time.time()\n",
    "search_rf.fit(X_train, y_train)\n",
    "toc = time.time()\n",
    "print('Execution time:', toc-tic, 'seconds')\n",
    "\n",
    "# CV Results\n",
    "cv_rf = pd.DataFrame({'n_estimators': search_rf.cv_results_['param_model__n_estimators'],\n",
    "                      'max_features': search_rf.cv_results_['param_model__max_features'],\n",
    "                      'Accuracy': search_rf.cv_results_['mean_test_score']})\n",
    "cv_rf"
   ]
  },
  {
   "cell_type": "code",
   "execution_count": null,
   "id": "0b914c93",
   "metadata": {},
   "outputs": [],
   "source": [
    "# CV Results Visualization\n",
    "plt.figure(figsize = (8,5))\n",
    "sns.relplot(data = cv_rf, x = 'n_estimators', y = 'Accuracy', hue = 'max_features').set(\n",
    "    xlabel = 'n_estimators', ylabel = 'Accuracy' )\n",
    "plt.show()"
   ]
  },
  {
   "cell_type": "code",
   "execution_count": null,
   "id": "4ca6e6e5",
   "metadata": {},
   "outputs": [],
   "source": [
    "search_rf.best_estimator_"
   ]
  },
  {
   "cell_type": "markdown",
   "id": "35f53ad5",
   "metadata": {},
   "source": [
    "#### Evaluation"
   ]
  },
  {
   "cell_type": "code",
   "execution_count": null,
   "id": "d3839c8a",
   "metadata": {},
   "outputs": [],
   "source": [
    "y_pred_rf = search_rf.predict(X_test)\n",
    "test_acc_rf = accuracy_score(y_test, y_pred_rf)\n",
    "test_auc_rf = roc_auc_score(y_test, y_pred_rf)\n",
    "cv_acc_rf = search_tree.best_score_\n",
    "print(f'CV Accuracy: {cv_acc_rf:.4f}')\n",
    "print(f'test Accuracy: {test_acc_rf:.4f}',',', f'test roc_auc: {test_auc_rf:.4f}')"
   ]
  },
  {
   "cell_type": "markdown",
   "id": "93d74eb2",
   "metadata": {},
   "source": [
    "## 7 Support Vector Machines"
   ]
  },
  {
   "cell_type": "markdown",
   "id": "d5e9b6a1",
   "metadata": {},
   "source": [
    "#### Model"
   ]
  },
  {
   "cell_type": "code",
   "execution_count": null,
   "id": "be64be5c",
   "metadata": {},
   "outputs": [],
   "source": [
    "mod_svm = SVC(random_state = seed)\n",
    "pip_svm = Pipeline(steps = [('col_tf', col_tf), ('model', mod_svm)])"
   ]
  },
  {
   "cell_type": "markdown",
   "id": "dd1783a1",
   "metadata": {},
   "source": [
    "#### Tuning Grid"
   ]
  },
  {
   "cell_type": "code",
   "execution_count": null,
   "id": "f0705c4c",
   "metadata": {
    "scrolled": true
   },
   "outputs": [],
   "source": [
    "# Tuning Parameter: C, kernel\n",
    "C_svm = np.logspace(start = - 3, stop = 2, num = 20)\n",
    "kernel_svm = ['poly', 'rbf']\n",
    "degree_svm = [2, 3, 4, 5]\n",
    "gamma_svm = ['scale', 'auto']\n",
    "param_svm = {'model__C': C_svm,\n",
    "             'model__kernel': kernel_svm,\n",
    "             'model__degree': degree_svm,\n",
    "             'model__gamma': gamma_svm}\n",
    "\n",
    "# Cross-Validation\n",
    "search_svm = GridSearchCV(pip_svm, param_svm, cv = TimeSeriesSplit(10), scoring = 'accuracy', refit = True)\n",
    "tic = time.time()\n",
    "search_svm.fit(X_train, y_train)\n",
    "toc = time.time()\n",
    "print('Execution time:', toc-tic, 'seconds')\n",
    "\n",
    "# CV Results\n",
    "cv_svm = pd.DataFrame({'C': search_svm.cv_results_['param_model__C'],\n",
    "                       'kernel': search_svm.cv_results_['param_model__kernel'],\n",
    "                       'degree': search_svm.cv_results_['param_model__degree'],\n",
    "                       'gamma': search_svm.cv_results_['param_model__gamma'],\n",
    "                       'Accuracy': search_svm.cv_results_['mean_test_score']})\n",
    "cv_svm"
   ]
  },
  {
   "cell_type": "code",
   "execution_count": null,
   "id": "bdef2062",
   "metadata": {},
   "outputs": [],
   "source": [
    "# CV Results Visualization\n",
    "fig, axes = plt.subplots(1, 2, figsize=(12, 5))\n",
    "\n",
    "# Plot for kernel = 'poly'\n",
    "cv_svm_poly = cv_svm[cv_svm['kernel'] == 'poly']\n",
    "for degree in sorted(cv_svm_poly['degree'].unique()):\n",
    "    cv_svm_poly_degree = cv_svm_poly[cv_svm_poly['degree'] == degree]\n",
    "    axes[0].scatter(cv_svm_poly_degree['C'], cv_svm_poly_degree['Accuracy'], label=f'Degree {degree}')\n",
    "axes[0].set_xscale('log')\n",
    "axes[0].set_xlabel('C')\n",
    "axes[0].set_ylabel('Accuracy')\n",
    "axes[0].set_title('SVM with Polynomial Kernel')\n",
    "axes[0].legend()\n",
    "\n",
    "# Plot for kernel = 'rbf'\n",
    "cv_svm_rbf = cv_svm[cv_svm['kernel'] == 'rbf']\n",
    "for gamma in sorted(cv_svm_rbf['gamma'].unique()):\n",
    "    cv_svm_rbf_gamma = cv_svm_rbf[cv_svm_rbf['gamma'] == gamma]\n",
    "    axes[1].scatter(cv_svm_rbf_gamma['C'], cv_svm_rbf_gamma['Accuracy'], label=f'Gamma {gamma}')\n",
    "axes[1].set_xscale('log')\n",
    "axes[1].set_xlabel('C')\n",
    "axes[1].set_ylabel('Accuracy')\n",
    "axes[1].set_title('SVM with RBF Kernel')\n",
    "axes[1].legend()\n",
    "\n",
    "plt.tight_layout()\n",
    "plt.show()"
   ]
  },
  {
   "cell_type": "code",
   "execution_count": null,
   "id": "24e8d69f",
   "metadata": {},
   "outputs": [],
   "source": [
    "search_svm.best_estimator_"
   ]
  },
  {
   "cell_type": "markdown",
   "id": "182d930e",
   "metadata": {},
   "source": [
    "#### Evaluation"
   ]
  },
  {
   "cell_type": "code",
   "execution_count": null,
   "id": "f451e2a9",
   "metadata": {},
   "outputs": [],
   "source": [
    "y_pred_svm = search_svm.predict(X_test)\n",
    "test_acc_svm = accuracy_score(y_test, y_pred_svm)\n",
    "test_auc_svm = roc_auc_score(y_test, y_pred_svm)\n",
    "cv_acc_svm = search_svm.best_score_\n",
    "print(f'CV Accuracy: {cv_acc_svm:.4f}')\n",
    "print(f'test Accuracy: {test_acc_svm:.4f}',',', f'test roc_auc: {test_auc_svm:.4f}')"
   ]
  },
  {
   "cell_type": "markdown",
   "id": "73232d77",
   "metadata": {},
   "source": [
    "## 8 Summary"
   ]
  },
  {
   "cell_type": "code",
   "execution_count": null,
   "id": "4d51d38b",
   "metadata": {},
   "outputs": [],
   "source": [
    "methods = {'Baseline Model': [test_acc_baseline, test_auc_baseline],\n",
    "           'Logistic Regression': [test_acc_log, test_auc_log],\n",
    "           'LDA': [test_acc_lda, test_auc_lda],\n",
    "           'QDA': [test_acc_qda, test_auc_qda],\n",
    "           'Naive Bayes': [test_acc_nb, test_auc_nb],\n",
    "           'K-Nearest Neighbors': [test_acc_knn, test_auc_knn],\n",
    "           'Decision Trees': [test_acc_tree, test_auc_tree],\n",
    "           'Random Forests': [test_acc_rf, test_auc_rf],\n",
    "           'Support Vector Machines': [test_acc_svm, test_auc_svm]}\n",
    "summary = pd.DataFrame.from_dict(methods, orient='index', columns=['test Accuracy', 'test roc_auc'])\n",
    "summary"
   ]
  },
  {
   "cell_type": "code",
   "execution_count": null,
   "id": "af9b55a4",
   "metadata": {},
   "outputs": [],
   "source": [
    "max_acc_method = summary['test Accuracy'].idxmax()\n",
    "max_auc_method = summary['test roc_auc'].idxmax()\n",
    "print(\"Method with the highest test accuracy: \", max_acc_method)\n",
    "print(\"Method with the highest test roc_auc: \", max_auc_method)"
   ]
  }
 ],
 "metadata": {
  "kernelspec": {
   "display_name": "Python 3 (ipykernel)",
   "language": "python",
   "name": "python3"
  },
  "language_info": {
   "codemirror_mode": {
    "name": "ipython",
    "version": 3
   },
   "file_extension": ".py",
   "mimetype": "text/x-python",
   "name": "python",
   "nbconvert_exporter": "python",
   "pygments_lexer": "ipython3",
   "version": "3.9.16"
  },
  "toc": {
   "base_numbering": 1,
   "nav_menu": {},
   "number_sections": false,
   "sideBar": true,
   "skip_h1_title": false,
   "title_cell": "Table of Contents",
   "title_sidebar": "Contents",
   "toc_cell": false,
   "toc_position": {},
   "toc_section_display": true,
   "toc_window_display": false
  }
 },
 "nbformat": 4,
 "nbformat_minor": 5
}
