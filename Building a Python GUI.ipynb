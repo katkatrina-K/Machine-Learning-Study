{
 "cells": [
  {
   "cell_type": "code",
   "execution_count": 1,
   "id": "e9fa6ae1",
   "metadata": {},
   "outputs": [],
   "source": [
    "# !pip install ipywidgets widgetsnbextension\n",
    "# !jupyter nbextension enable --py widgetsnbextension --sys-prefix"
   ]
  },
  {
   "cell_type": "code",
   "execution_count": 2,
   "id": "f2f39034",
   "metadata": {},
   "outputs": [],
   "source": [
    "import pandas as pd\n",
    "from ipywidgets import widgets\n",
    "from ipywidgets import interactive\n",
    "import ipywidgets as widgets"
   ]
  },
  {
   "cell_type": "markdown",
   "id": "a01ffadc",
   "metadata": {},
   "source": [
    "## 0 Data\n",
    "---\n",
    "Description — This dataset contains 1338 rows of insured data, where the Insurance charges are given against the following attributes of the insured: Age, Sex, BMI, Number of Children, Smoker and Region. The attributes are a mix of numeric and categorical variables."
   ]
  },
  {
   "cell_type": "code",
   "execution_count": 3,
   "id": "84ca282b",
   "metadata": {
    "scrolled": true
   },
   "outputs": [
    {
     "data": {
      "text/html": [
       "<div>\n",
       "<style scoped>\n",
       "    .dataframe tbody tr th:only-of-type {\n",
       "        vertical-align: middle;\n",
       "    }\n",
       "\n",
       "    .dataframe tbody tr th {\n",
       "        vertical-align: top;\n",
       "    }\n",
       "\n",
       "    .dataframe thead th {\n",
       "        text-align: right;\n",
       "    }\n",
       "</style>\n",
       "<table border=\"1\" class=\"dataframe\">\n",
       "  <thead>\n",
       "    <tr style=\"text-align: right;\">\n",
       "      <th></th>\n",
       "      <th>age</th>\n",
       "      <th>sex</th>\n",
       "      <th>bmi</th>\n",
       "      <th>children</th>\n",
       "      <th>smoker</th>\n",
       "      <th>region</th>\n",
       "      <th>charges</th>\n",
       "    </tr>\n",
       "  </thead>\n",
       "  <tbody>\n",
       "    <tr>\n",
       "      <th>0</th>\n",
       "      <td>19</td>\n",
       "      <td>female</td>\n",
       "      <td>27.900</td>\n",
       "      <td>0</td>\n",
       "      <td>yes</td>\n",
       "      <td>southwest</td>\n",
       "      <td>16884.92400</td>\n",
       "    </tr>\n",
       "    <tr>\n",
       "      <th>1</th>\n",
       "      <td>18</td>\n",
       "      <td>male</td>\n",
       "      <td>33.770</td>\n",
       "      <td>1</td>\n",
       "      <td>no</td>\n",
       "      <td>southeast</td>\n",
       "      <td>1725.55230</td>\n",
       "    </tr>\n",
       "    <tr>\n",
       "      <th>2</th>\n",
       "      <td>28</td>\n",
       "      <td>male</td>\n",
       "      <td>33.000</td>\n",
       "      <td>3</td>\n",
       "      <td>no</td>\n",
       "      <td>southeast</td>\n",
       "      <td>4449.46200</td>\n",
       "    </tr>\n",
       "    <tr>\n",
       "      <th>3</th>\n",
       "      <td>33</td>\n",
       "      <td>male</td>\n",
       "      <td>22.705</td>\n",
       "      <td>0</td>\n",
       "      <td>no</td>\n",
       "      <td>northwest</td>\n",
       "      <td>21984.47061</td>\n",
       "    </tr>\n",
       "    <tr>\n",
       "      <th>4</th>\n",
       "      <td>32</td>\n",
       "      <td>male</td>\n",
       "      <td>28.880</td>\n",
       "      <td>0</td>\n",
       "      <td>no</td>\n",
       "      <td>northwest</td>\n",
       "      <td>3866.85520</td>\n",
       "    </tr>\n",
       "  </tbody>\n",
       "</table>\n",
       "</div>"
      ],
      "text/plain": [
       "   age     sex     bmi  children smoker     region      charges\n",
       "0   19  female  27.900         0    yes  southwest  16884.92400\n",
       "1   18    male  33.770         1     no  southeast   1725.55230\n",
       "2   28    male  33.000         3     no  southeast   4449.46200\n",
       "3   33    male  22.705         0     no  northwest  21984.47061\n",
       "4   32    male  28.880         0     no  northwest   3866.85520"
      ]
     },
     "execution_count": 3,
     "metadata": {},
     "output_type": "execute_result"
    }
   ],
   "source": [
    "data = pd.read_csv('insurance.csv')\n",
    "data.head()"
   ]
  },
  {
   "cell_type": "markdown",
   "id": "96098066",
   "metadata": {},
   "source": [
    "## 1 Widgets Introduction\n",
    "---\n",
    "Widgets are eventful python objects that have a representation in the browser, often as a control like a slider, textbox, etc.\n",
    "\n",
    "You can use widgets to build interactive GUIs for your notebooks."
   ]
  },
  {
   "cell_type": "code",
   "execution_count": 4,
   "id": "3e97cf1e",
   "metadata": {},
   "outputs": [],
   "source": [
    "import ipywidgets as widgets"
   ]
  },
  {
   "cell_type": "markdown",
   "id": "ba333741",
   "metadata": {},
   "source": [
    "#### (1) Using widgets"
   ]
  },
  {
   "cell_type": "code",
   "execution_count": 5,
   "id": "0860f4df",
   "metadata": {},
   "outputs": [
    {
     "data": {
      "application/vnd.jupyter.widget-view+json": {
       "model_id": "14477b48da0e46a7adba79036342df1e",
       "version_major": 2,
       "version_minor": 0
      },
      "text/plain": [
       "IntSlider(value=10)"
      ]
     },
     "metadata": {},
     "output_type": "display_data"
    }
   ],
   "source": [
    "w = widgets.IntSlider()\n",
    "w.value = 10\n",
    "display(w)"
   ]
  },
  {
   "cell_type": "markdown",
   "id": "db1b4ec0",
   "metadata": {},
   "source": [
    "#### (2) Setting the initial values of widget properties"
   ]
  },
  {
   "cell_type": "code",
   "execution_count": 6,
   "id": "478a317a",
   "metadata": {},
   "outputs": [
    {
     "data": {
      "application/vnd.jupyter.widget-view+json": {
       "model_id": "998e8ad7c7504320b53b3e99a3993c99",
       "version_major": 2,
       "version_minor": 0
      },
      "text/plain": [
       "Text(value='Input Here', disabled=True)"
      ]
     },
     "execution_count": 6,
     "metadata": {},
     "output_type": "execute_result"
    }
   ],
   "source": [
    "widgets.Text(value = 'Input Here', disabled = True)"
   ]
  },
  {
   "cell_type": "markdown",
   "id": "ab6be9c9",
   "metadata": {},
   "source": [
    "#### (3) Liking two similar widgets"
   ]
  },
  {
   "cell_type": "code",
   "execution_count": 7,
   "id": "4e8f25f7",
   "metadata": {},
   "outputs": [
    {
     "data": {
      "application/vnd.jupyter.widget-view+json": {
       "model_id": "3dfe16ad3f65441fa87896e023909eaa",
       "version_major": 2,
       "version_minor": 0
      },
      "text/plain": [
       "FloatText(value=0.0)"
      ]
     },
     "metadata": {},
     "output_type": "display_data"
    },
    {
     "data": {
      "application/vnd.jupyter.widget-view+json": {
       "model_id": "addae94a58ba4445b614b647bb413817",
       "version_major": 2,
       "version_minor": 0
      },
      "text/plain": [
       "FloatSlider(value=0.0)"
      ]
     },
     "metadata": {},
     "output_type": "display_data"
    }
   ],
   "source": [
    "a = widgets.FloatText()\n",
    "b = widgets.FloatSlider()\n",
    "display(a,b)\n",
    "link = widgets.jslink((a, 'value'), (b, 'value'))\n",
    "link.unlink() # unlink widgets"
   ]
  },
  {
   "cell_type": "markdown",
   "id": "78cc5abd",
   "metadata": {},
   "source": [
    "## 2 Widget List"
   ]
  },
  {
   "cell_type": "markdown",
   "id": "77ae8c7f",
   "metadata": {},
   "source": [
    "### 2.1 Numeric Widgets"
   ]
  },
  {
   "cell_type": "markdown",
   "id": "f50718b6",
   "metadata": {},
   "source": [
    "#### (1) IntSlider\n",
    "---\n",
    "\n",
    "- The slider is displayed with a specified, initial `value`. Lower and upper bounds are defined by `min` and `max`, and the value can be incremented according to the `step` parameter.\n",
    "- The slider's label is defined by `description` parameter\n",
    "- The slider's `orientation` is either 'horizontal'(default) or 'vertical'.\n",
    "- `readout` displays the current value of the slider next to it, the options are True(default).\n",
    "- `readout_format` specifies the format function used to represent slider value, the default is '.2f'."
   ]
  },
  {
   "cell_type": "code",
   "execution_count": 8,
   "id": "ba0684af",
   "metadata": {},
   "outputs": [
    {
     "data": {
      "application/vnd.jupyter.widget-view+json": {
       "model_id": "bcd7a1c1c4644799a9c75880f5239c8e",
       "version_major": 2,
       "version_minor": 0
      },
      "text/plain": [
       "IntSlider(value=7, continuous_update=False, description='Test:', max=10)"
      ]
     },
     "execution_count": 8,
     "metadata": {},
     "output_type": "execute_result"
    }
   ],
   "source": [
    "widgets.IntSlider(\n",
    "    value = 7,\n",
    "    min = 0, max = 10, step = 1,\n",
    "    description = 'Test:',\n",
    "    disabled = False,\n",
    "    continuous_update = False,\n",
    "    orientation = 'horizontal',\n",
    "    readout = True,\n",
    "    read_format = 'd')"
   ]
  },
  {
   "cell_type": "markdown",
   "id": "9bfb9f41",
   "metadata": {},
   "source": [
    "#### (2) FloatSlider"
   ]
  },
  {
   "cell_type": "code",
   "execution_count": 9,
   "id": "f6b8ca1e",
   "metadata": {},
   "outputs": [
    {
     "data": {
      "application/vnd.jupyter.widget-view+json": {
       "model_id": "57bd149c254d461fb0446a3e03c5dc8c",
       "version_major": 2,
       "version_minor": 0
      },
      "text/plain": [
       "FloatSlider(value=7.5, continuous_update=False, description='Test:', max=10.0)"
      ]
     },
     "execution_count": 9,
     "metadata": {},
     "output_type": "execute_result"
    }
   ],
   "source": [
    "widgets.FloatSlider(\n",
    "    value = 7.5,\n",
    "    min = 0, max = 10.0, step = 0.1,\n",
    "    description = 'Test:', disabled = False,\n",
    "    continuous_update = False,\n",
    "    orientation = 'horizontal',\n",
    "    readout = True, read_format = '.1f')"
   ]
  },
  {
   "cell_type": "markdown",
   "id": "a84594d2",
   "metadata": {},
   "source": [
    "#### (3) FloatLogSlider\n",
    "\n",
    "- The `FloatLogSlider` has a log scale, `min` and `max` refer to the minimum and maximum exponents of the `base`, and the `value` refers to the actual value of the slider."
   ]
  },
  {
   "cell_type": "code",
   "execution_count": 10,
   "id": "c1cbdaa1",
   "metadata": {},
   "outputs": [
    {
     "data": {
      "application/vnd.jupyter.widget-view+json": {
       "model_id": "4a861d47b980452ba786e952b51a7275",
       "version_major": 2,
       "version_minor": 0
      },
      "text/plain": [
       "FloatLogSlider(value=10.0, max=10.0, min=-10.0, step=0.2)"
      ]
     },
     "execution_count": 10,
     "metadata": {},
     "output_type": "execute_result"
    }
   ],
   "source": [
    "widgets.FloatLogSlider(\n",
    "    value = 10, base = 10,\n",
    "    min = -10, max = 10, step = 0.2,\n",
    "    discription = 'Log Slider')"
   ]
  },
  {
   "cell_type": "markdown",
   "id": "88d9fe05",
   "metadata": {},
   "source": [
    "#### (4) IntText and FloatText"
   ]
  },
  {
   "cell_type": "code",
   "execution_count": 11,
   "id": "7848562e",
   "metadata": {},
   "outputs": [
    {
     "data": {
      "application/vnd.jupyter.widget-view+json": {
       "model_id": "72c9de04b77f4bbea090da5fd51d05e9",
       "version_major": 2,
       "version_minor": 0
      },
      "text/plain": [
       "IntText(value=7, description='Any:')"
      ]
     },
     "execution_count": 11,
     "metadata": {},
     "output_type": "execute_result"
    }
   ],
   "source": [
    "widgets.IntText(\n",
    "    value = 7, description = 'Any:', disabled = False)"
   ]
  },
  {
   "cell_type": "code",
   "execution_count": 12,
   "id": "4f701919",
   "metadata": {},
   "outputs": [
    {
     "data": {
      "application/vnd.jupyter.widget-view+json": {
       "model_id": "739e42f7f3e847548da7cc2ff1145dcd",
       "version_major": 2,
       "version_minor": 0
      },
      "text/plain": [
       "FloatText(value=7.5, description='Any:')"
      ]
     },
     "execution_count": 12,
     "metadata": {},
     "output_type": "execute_result"
    }
   ],
   "source": [
    "widgets.FloatText(\n",
    "    value = 7.5, description = 'Any:', disabled = False)"
   ]
  },
  {
   "cell_type": "markdown",
   "id": "0d685219",
   "metadata": {},
   "source": [
    "### 2.2 Bolean Widgets"
   ]
  },
  {
   "cell_type": "markdown",
   "id": "f58a2316",
   "metadata": {},
   "source": [
    "#### (1) ToggleButton"
   ]
  },
  {
   "cell_type": "code",
   "execution_count": 13,
   "id": "0968d32b",
   "metadata": {},
   "outputs": [
    {
     "data": {
      "application/vnd.jupyter.widget-view+json": {
       "model_id": "e398a08c59b14856811516a02953a1bb",
       "version_major": 2,
       "version_minor": 0
      },
      "text/plain": [
       "ToggleButton(value=False, icon='check', tooltip='Description')"
      ]
     },
     "execution_count": 13,
     "metadata": {},
     "output_type": "execute_result"
    }
   ],
   "source": [
    "widgets.ToggleButton(\n",
    "    value = False, discription = 'Click me',\n",
    "    disabled = False, button_style = '',  tooltip = 'Description', icon = 'check')"
   ]
  },
  {
   "cell_type": "markdown",
   "id": "801d0ded",
   "metadata": {},
   "source": [
    "#### (2) Checkbox\n",
    "\n",
    "- `indent` parameter places an indented checkbox, aligned with other controls."
   ]
  },
  {
   "cell_type": "code",
   "execution_count": 14,
   "id": "40a9bc65",
   "metadata": {},
   "outputs": [
    {
     "data": {
      "application/vnd.jupyter.widget-view+json": {
       "model_id": "e6660e4c13dc4309b427f2d2b361314e",
       "version_major": 2,
       "version_minor": 0
      },
      "text/plain": [
       "Checkbox(value=False, description='Check me', indent=False)"
      ]
     },
     "execution_count": 14,
     "metadata": {},
     "output_type": "execute_result"
    }
   ],
   "source": [
    "widgets.Checkbox(\n",
    "    value = False, description = 'Check me',\n",
    "    disabled = False, indent = False )"
   ]
  },
  {
   "cell_type": "markdown",
   "id": "62c97b22",
   "metadata": {},
   "source": [
    "### 2.3 Selection Widgets"
   ]
  },
  {
   "cell_type": "markdown",
   "id": "03b8d777",
   "metadata": {},
   "source": [
    "#### (1) Dropdown"
   ]
  },
  {
   "cell_type": "code",
   "execution_count": 15,
   "id": "ec49dd8b",
   "metadata": {},
   "outputs": [
    {
     "data": {
      "application/vnd.jupyter.widget-view+json": {
       "model_id": "6230a3db4bd543b586be25e1eca935ca",
       "version_major": 2,
       "version_minor": 0
      },
      "text/plain": [
       "Dropdown(description='Number:', index=1, options=('1', '2', '3'), value='2')"
      ]
     },
     "execution_count": 15,
     "metadata": {},
     "output_type": "execute_result"
    }
   ],
   "source": [
    "widgets.Dropdown(\n",
    "    options = ['1', '2', '3'], value = '2',\n",
    "    description = 'Number:', disabled = False)\n",
    "\n",
    "# diaplaying the words 'One', 'Two', 'Three' as the dropdown choices but returning the values 1,2,3\n",
    "# widgets.Dropdown(\n",
    "    # options = [('One', 1), ('Two', 2), ('Three', 3)], value = '2',\n",
    "    # description = 'Number:', disabled = False)"
   ]
  },
  {
   "cell_type": "code",
   "execution_count": 16,
   "id": "411791ca",
   "metadata": {},
   "outputs": [
    {
     "data": {
      "application/vnd.jupyter.widget-view+json": {
       "model_id": "783f78acc8cf4647ad2976a701280b01",
       "version_major": 2,
       "version_minor": 0
      },
      "text/plain": [
       "Dropdown(description='Choice', options=(('Choice 1', 100), ('Choice 2', 200)), value=100)"
      ]
     },
     "execution_count": 16,
     "metadata": {},
     "output_type": "execute_result"
    }
   ],
   "source": [
    "widgets.Dropdown(\n",
    "    options = [('Choice 1', 100), ('Choice 2', 200)],\n",
    "    description = 'Choice')"
   ]
  },
  {
   "cell_type": "markdown",
   "id": "eadd9c95",
   "metadata": {},
   "source": [
    "#### (2) RadioButtons"
   ]
  },
  {
   "cell_type": "code",
   "execution_count": 17,
   "id": "09c861c6",
   "metadata": {},
   "outputs": [
    {
     "data": {
      "application/vnd.jupyter.widget-view+json": {
       "model_id": "d855ba97572b4732bef00ddaf767921d",
       "version_major": 2,
       "version_minor": 0
      },
      "text/plain": [
       "RadioButtons(description='Pizza topping:', index=1, options=('pepperoni', 'pineapple', 'anchovies'), value='pi…"
      ]
     },
     "execution_count": 17,
     "metadata": {},
     "output_type": "execute_result"
    }
   ],
   "source": [
    "widgets.RadioButtons(\n",
    "    options = ['pepperoni', 'pineapple', 'anchovies'], value = 'pineapple',\n",
    "#   layout = {'width': 'max-content'}, # If the items' names are long\n",
    "    description='Pizza topping:', disabled = False)"
   ]
  },
  {
   "cell_type": "markdown",
   "id": "4c8b8c08",
   "metadata": {},
   "source": [
    "### 2.4 String Widgets"
   ]
  },
  {
   "cell_type": "code",
   "execution_count": 18,
   "id": "24c8936e",
   "metadata": {},
   "outputs": [
    {
     "data": {
      "application/vnd.jupyter.widget-view+json": {
       "model_id": "80f859a1f536403fbe1a33be11d7666f",
       "version_major": 2,
       "version_minor": 0
      },
      "text/plain": [
       "Text(value='Input Here', description='String:', placeholder='Type something')"
      ]
     },
     "execution_count": 18,
     "metadata": {},
     "output_type": "execute_result"
    }
   ],
   "source": [
    "widgets.Text(\n",
    "    value = 'Input Here', placeholder = 'Type something',\n",
    "    description = 'String:', disabled = False)"
   ]
  },
  {
   "cell_type": "markdown",
   "id": "afb03a50",
   "metadata": {},
   "source": [
    "### 2.5 File Upload"
   ]
  },
  {
   "cell_type": "markdown",
   "id": "1ede9ff3",
   "metadata": {},
   "source": [
    "#### (1) CSV"
   ]
  },
  {
   "cell_type": "code",
   "execution_count": 19,
   "id": "74a6f97b",
   "metadata": {},
   "outputs": [],
   "source": [
    "file_upload = widgets.FileUpload(\n",
    "                accept = '',  # Accepted file extension e.g. '.txt', '.pdf', 'image/*', 'image/*,.pdf'\n",
    "                multiple = False)  # True to accept multiple files upload else False"
   ]
  },
  {
   "cell_type": "code",
   "execution_count": 21,
   "id": "9ca3cef9",
   "metadata": {},
   "outputs": [
    {
     "data": {
      "application/vnd.jupyter.widget-view+json": {
       "model_id": "3f7d078f60704d3189b78e9fb4dd6bd5",
       "version_major": 2,
       "version_minor": 0
      },
      "text/plain": [
       "FileUpload(value=({'name': 'insurance.csv', 'type': 'text/csv', 'size': 55628, 'content': <memory at 0x10f35bd…"
      ]
     },
     "metadata": {},
     "output_type": "display_data"
    },
    {
     "data": {
      "text/plain": [
       "{'name': 'insurance.csv',\n",
       " 'type': 'text/csv',\n",
       " 'size': 55628,\n",
       " 'content': <memory at 0x10f35bdc0>,\n",
       " 'last_modified': datetime.datetime(2020, 2, 16, 12, 43, 54, tzinfo=datetime.timezone.utc)}"
      ]
     },
     "execution_count": 21,
     "metadata": {},
     "output_type": "execute_result"
    }
   ],
   "source": [
    "display(file_upload) # upload cvs\n",
    "file1 = file_upload.value[0]\n",
    "file1"
   ]
  },
  {
   "cell_type": "code",
   "execution_count": 22,
   "id": "12cf0bb1",
   "metadata": {
    "scrolled": true
   },
   "outputs": [
    {
     "data": {
      "text/html": [
       "<div>\n",
       "<style scoped>\n",
       "    .dataframe tbody tr th:only-of-type {\n",
       "        vertical-align: middle;\n",
       "    }\n",
       "\n",
       "    .dataframe tbody tr th {\n",
       "        vertical-align: top;\n",
       "    }\n",
       "\n",
       "    .dataframe thead th {\n",
       "        text-align: right;\n",
       "    }\n",
       "</style>\n",
       "<table border=\"1\" class=\"dataframe\">\n",
       "  <thead>\n",
       "    <tr style=\"text-align: right;\">\n",
       "      <th></th>\n",
       "      <th>age</th>\n",
       "      <th>sex</th>\n",
       "      <th>bmi</th>\n",
       "      <th>children</th>\n",
       "      <th>smoker</th>\n",
       "      <th>region</th>\n",
       "      <th>charges</th>\n",
       "    </tr>\n",
       "  </thead>\n",
       "  <tbody>\n",
       "    <tr>\n",
       "      <th>0</th>\n",
       "      <td>19</td>\n",
       "      <td>female</td>\n",
       "      <td>27.900</td>\n",
       "      <td>0</td>\n",
       "      <td>yes</td>\n",
       "      <td>southwest</td>\n",
       "      <td>16884.92400</td>\n",
       "    </tr>\n",
       "    <tr>\n",
       "      <th>1</th>\n",
       "      <td>18</td>\n",
       "      <td>male</td>\n",
       "      <td>33.770</td>\n",
       "      <td>1</td>\n",
       "      <td>no</td>\n",
       "      <td>southeast</td>\n",
       "      <td>1725.55230</td>\n",
       "    </tr>\n",
       "    <tr>\n",
       "      <th>2</th>\n",
       "      <td>28</td>\n",
       "      <td>male</td>\n",
       "      <td>33.000</td>\n",
       "      <td>3</td>\n",
       "      <td>no</td>\n",
       "      <td>southeast</td>\n",
       "      <td>4449.46200</td>\n",
       "    </tr>\n",
       "    <tr>\n",
       "      <th>3</th>\n",
       "      <td>33</td>\n",
       "      <td>male</td>\n",
       "      <td>22.705</td>\n",
       "      <td>0</td>\n",
       "      <td>no</td>\n",
       "      <td>northwest</td>\n",
       "      <td>21984.47061</td>\n",
       "    </tr>\n",
       "    <tr>\n",
       "      <th>4</th>\n",
       "      <td>32</td>\n",
       "      <td>male</td>\n",
       "      <td>28.880</td>\n",
       "      <td>0</td>\n",
       "      <td>no</td>\n",
       "      <td>northwest</td>\n",
       "      <td>3866.85520</td>\n",
       "    </tr>\n",
       "  </tbody>\n",
       "</table>\n",
       "</div>"
      ],
      "text/plain": [
       "   age     sex     bmi  children smoker     region      charges\n",
       "0   19  female  27.900         0    yes  southwest  16884.92400\n",
       "1   18    male  33.770         1     no  southeast   1725.55230\n",
       "2   28    male  33.000         3     no  southeast   4449.46200\n",
       "3   33    male  22.705         0     no  northwest  21984.47061\n",
       "4   32    male  28.880         0     no  northwest   3866.85520"
      ]
     },
     "execution_count": 22,
     "metadata": {},
     "output_type": "execute_result"
    }
   ],
   "source": [
    "# convert the file into a Pandas dataframe\n",
    "import io\n",
    "import pandas as pd\n",
    "pd.read_csv(io.BytesIO(file1.content)).head()"
   ]
  },
  {
   "cell_type": "markdown",
   "id": "940a59d1",
   "metadata": {},
   "source": [
    "## 3 Using Interact\n",
    "---\n",
    "The `interact` function automatically creates user interface (UI) controls for exploring code and data interactively."
   ]
  },
  {
   "cell_type": "markdown",
   "id": "1e51e1d4",
   "metadata": {},
   "source": [
    "### 3.1 Basic `interact`\n",
    " - if pass in n, it generates an integer-valued slider control with a range of $[-n,+3*n]$."
   ]
  },
  {
   "cell_type": "code",
   "execution_count": 23,
   "id": "3a30af5f",
   "metadata": {},
   "outputs": [],
   "source": [
    "from ipywidgets import interact"
   ]
  },
  {
   "cell_type": "code",
   "execution_count": 24,
   "id": "59c30e64",
   "metadata": {},
   "outputs": [],
   "source": [
    "def f(x):\n",
    "    return x"
   ]
  },
  {
   "cell_type": "code",
   "execution_count": 25,
   "id": "e7782955",
   "metadata": {},
   "outputs": [
    {
     "data": {
      "application/vnd.jupyter.widget-view+json": {
       "model_id": "321b96c6acdc4a61b9524fd43e073c0a",
       "version_major": 2,
       "version_minor": 0
      },
      "text/plain": [
       "interactive(children=(IntSlider(value=10, description='x', max=30, min=-10), Output()), _dom_classes=('widget-…"
      ]
     },
     "metadata": {},
     "output_type": "display_data"
    },
    {
     "data": {
      "text/plain": [
       "<function __main__.f(x)>"
      ]
     },
     "execution_count": 25,
     "metadata": {},
     "output_type": "execute_result"
    }
   ],
   "source": [
    "interact(f, x = 10) # -10 ~ 30"
   ]
  },
  {
   "cell_type": "code",
   "execution_count": 26,
   "id": "ed59ba7b",
   "metadata": {
    "scrolled": true
   },
   "outputs": [
    {
     "data": {
      "application/vnd.jupyter.widget-view+json": {
       "model_id": "deab4fe8f0e44e9483cd6b24b16698d5",
       "version_major": 2,
       "version_minor": 0
      },
      "text/plain": [
       "interactive(children=(Checkbox(value=True, description='x'), Output()), _dom_classes=('widget-interact',))"
      ]
     },
     "metadata": {},
     "output_type": "display_data"
    },
    {
     "data": {
      "text/plain": [
       "<function __main__.f(x)>"
      ]
     },
     "execution_count": 26,
     "metadata": {},
     "output_type": "execute_result"
    }
   ],
   "source": [
    "# If you pass True or False, interact will generate a checkbox\n",
    "interact(f, x = True)"
   ]
  },
  {
   "cell_type": "code",
   "execution_count": 27,
   "id": "f1a30955",
   "metadata": {
    "scrolled": true
   },
   "outputs": [
    {
     "data": {
      "application/vnd.jupyter.widget-view+json": {
       "model_id": "8eaf960cc0e84dde8f10611b8d01b25a",
       "version_major": 2,
       "version_minor": 0
      },
      "text/plain": [
       "interactive(children=(Text(value='Hi', description='x'), Output()), _dom_classes=('widget-interact',))"
      ]
     },
     "metadata": {},
     "output_type": "display_data"
    },
    {
     "data": {
      "text/plain": [
       "<function __main__.f(x)>"
      ]
     },
     "execution_count": 27,
     "metadata": {},
     "output_type": "execute_result"
    }
   ],
   "source": [
    "# If you pass a string, interact will generate a text box.\n",
    "interact(f, x = 'Hi')"
   ]
  },
  {
   "attachments": {
    "image.png": {
     "image/png": "[encoded data removed]"
    }
   },
   "cell_type": "markdown",
   "id": "4fbd8cc4",
   "metadata": {},
   "source": [
    "### 3.2 Widget Abbreviations\n",
    "\n",
    "![image.png](attachment:image.png)"
   ]
  },
  {
   "cell_type": "markdown",
   "id": "347bc47d",
   "metadata": {},
   "source": [
    "### 3.3 Basic `interactive`"
   ]
  },
  {
   "cell_type": "code",
   "execution_count": 28,
   "id": "e2a950c7",
   "metadata": {},
   "outputs": [],
   "source": [
    "from IPython.display import display"
   ]
  },
  {
   "cell_type": "code",
   "execution_count": 29,
   "id": "8facee7f",
   "metadata": {},
   "outputs": [],
   "source": [
    "def f(a,b):\n",
    "    display(a + b) # display the return value\n",
    "    return a+b"
   ]
  },
  {
   "cell_type": "code",
   "execution_count": 30,
   "id": "3cb5c631",
   "metadata": {},
   "outputs": [
    {
     "data": {
      "application/vnd.jupyter.widget-view+json": {
       "model_id": "8ddbb5da95404c75aa1ce3b196f884e0",
       "version_major": 2,
       "version_minor": 0
      },
      "text/plain": [
       "interactive(children=(IntSlider(value=10, description='a', max=30, min=-10), IntSlider(value=20, description='…"
      ]
     },
     "execution_count": 30,
     "metadata": {},
     "output_type": "execute_result"
    }
   ],
   "source": [
    "interactive(f, a = 10, b = 20)"
   ]
  },
  {
   "cell_type": "markdown",
   "id": "c0a6d944",
   "metadata": {},
   "source": [
    "## Practice Example"
   ]
  },
  {
   "cell_type": "code",
   "execution_count": 31,
   "id": "e050211b",
   "metadata": {},
   "outputs": [
    {
     "data": {
      "text/html": [
       "<div>\n",
       "<style scoped>\n",
       "    .dataframe tbody tr th:only-of-type {\n",
       "        vertical-align: middle;\n",
       "    }\n",
       "\n",
       "    .dataframe tbody tr th {\n",
       "        vertical-align: top;\n",
       "    }\n",
       "\n",
       "    .dataframe thead th {\n",
       "        text-align: right;\n",
       "    }\n",
       "</style>\n",
       "<table border=\"1\" class=\"dataframe\">\n",
       "  <thead>\n",
       "    <tr style=\"text-align: right;\">\n",
       "      <th></th>\n",
       "      <th>age</th>\n",
       "      <th>sex</th>\n",
       "      <th>bmi</th>\n",
       "      <th>children</th>\n",
       "      <th>smoker</th>\n",
       "      <th>region</th>\n",
       "      <th>charges</th>\n",
       "    </tr>\n",
       "  </thead>\n",
       "  <tbody>\n",
       "    <tr>\n",
       "      <th>0</th>\n",
       "      <td>19</td>\n",
       "      <td>female</td>\n",
       "      <td>27.900</td>\n",
       "      <td>0</td>\n",
       "      <td>yes</td>\n",
       "      <td>southwest</td>\n",
       "      <td>16884.92400</td>\n",
       "    </tr>\n",
       "    <tr>\n",
       "      <th>1</th>\n",
       "      <td>18</td>\n",
       "      <td>male</td>\n",
       "      <td>33.770</td>\n",
       "      <td>1</td>\n",
       "      <td>no</td>\n",
       "      <td>southeast</td>\n",
       "      <td>1725.55230</td>\n",
       "    </tr>\n",
       "    <tr>\n",
       "      <th>2</th>\n",
       "      <td>28</td>\n",
       "      <td>male</td>\n",
       "      <td>33.000</td>\n",
       "      <td>3</td>\n",
       "      <td>no</td>\n",
       "      <td>southeast</td>\n",
       "      <td>4449.46200</td>\n",
       "    </tr>\n",
       "    <tr>\n",
       "      <th>3</th>\n",
       "      <td>33</td>\n",
       "      <td>male</td>\n",
       "      <td>22.705</td>\n",
       "      <td>0</td>\n",
       "      <td>no</td>\n",
       "      <td>northwest</td>\n",
       "      <td>21984.47061</td>\n",
       "    </tr>\n",
       "    <tr>\n",
       "      <th>4</th>\n",
       "      <td>32</td>\n",
       "      <td>male</td>\n",
       "      <td>28.880</td>\n",
       "      <td>0</td>\n",
       "      <td>no</td>\n",
       "      <td>northwest</td>\n",
       "      <td>3866.85520</td>\n",
       "    </tr>\n",
       "  </tbody>\n",
       "</table>\n",
       "</div>"
      ],
      "text/plain": [
       "   age     sex     bmi  children smoker     region      charges\n",
       "0   19  female  27.900         0    yes  southwest  16884.92400\n",
       "1   18    male  33.770         1     no  southeast   1725.55230\n",
       "2   28    male  33.000         3     no  southeast   4449.46200\n",
       "3   33    male  22.705         0     no  northwest  21984.47061\n",
       "4   32    male  28.880         0     no  northwest   3866.85520"
      ]
     },
     "execution_count": 31,
     "metadata": {},
     "output_type": "execute_result"
    }
   ],
   "source": [
    "data.head()"
   ]
  },
  {
   "cell_type": "markdown",
   "id": "e0b259ac",
   "metadata": {},
   "source": [
    "### 1 Numeric Widgets ( Slider )"
   ]
  },
  {
   "cell_type": "markdown",
   "id": "e03924e8",
   "metadata": {},
   "source": [
    "**e.g 1** retrieve rows with 5 children"
   ]
  },
  {
   "cell_type": "code",
   "execution_count": 32,
   "id": "2fa83239",
   "metadata": {},
   "outputs": [],
   "source": [
    "# defined a function named f that takes in one argument — children\n",
    "# the function will query the dataframe and display the result\n",
    "def f(children):\n",
    "    display(data.query(f'children == {children}')) "
   ]
  },
  {
   "cell_type": "code",
   "execution_count": 33,
   "id": "41d9de1d",
   "metadata": {
    "scrolled": true
   },
   "outputs": [
    {
     "data": {
      "application/vnd.jupyter.widget-view+json": {
       "model_id": "01ef61a68c1d46bf92216ba563474aeb",
       "version_major": 2,
       "version_minor": 0
      },
      "text/plain": [
       "interactive(children=(IntSlider(value=5, description='children', max=15, min=-5), Output()), _dom_classes=('wi…"
      ]
     },
     "metadata": {},
     "output_type": "display_data"
    },
    {
     "data": {
      "text/plain": [
       "<function __main__.f(children)>"
      ]
     },
     "execution_count": 33,
     "metadata": {},
     "output_type": "execute_result"
    }
   ],
   "source": [
    "interact(f, children = 5)"
   ]
  },
  {
   "cell_type": "markdown",
   "id": "8022f559",
   "metadata": {},
   "source": [
    "**e.g 2** retrieve rows with age within a certain range"
   ]
  },
  {
   "cell_type": "code",
   "execution_count": 34,
   "id": "1fcc11b7",
   "metadata": {},
   "outputs": [],
   "source": [
    "def f(age):\n",
    "    display(data.query(f'age == {age}'))"
   ]
  },
  {
   "cell_type": "code",
   "execution_count": 35,
   "id": "f32cecde",
   "metadata": {
    "scrolled": true
   },
   "outputs": [
    {
     "data": {
      "application/vnd.jupyter.widget-view+json": {
       "model_id": "bf70bec9e2ff4fa4bb86ec1d8b310321",
       "version_major": 2,
       "version_minor": 0
      },
      "text/plain": [
       "interactive(children=(IntSlider(value=41, description='age', max=64, min=18), Output()), _dom_classes=('widget…"
      ]
     },
     "metadata": {},
     "output_type": "display_data"
    },
    {
     "data": {
      "text/plain": [
       "<function __main__.f(age)>"
      ]
     },
     "execution_count": 35,
     "metadata": {},
     "output_type": "execute_result"
    }
   ],
   "source": [
    "interact(f, age = (data['age'].min(), data['age'].max()))"
   ]
  },
  {
   "cell_type": "markdown",
   "id": "bd9eb195",
   "metadata": {},
   "source": [
    "### 2 Bolean Widgets"
   ]
  },
  {
   "cell_type": "markdown",
   "id": "ba1098bb",
   "metadata": {},
   "source": [
    "#### Checkbox"
   ]
  },
  {
   "cell_type": "markdown",
   "id": "5f1b752a",
   "metadata": {},
   "source": [
    "**e.g** retrive rows with smoker = yes or no"
   ]
  },
  {
   "cell_type": "code",
   "execution_count": 36,
   "id": "60538309",
   "metadata": {},
   "outputs": [],
   "source": [
    "YES, NO = 'yes', 'no'"
   ]
  },
  {
   "cell_type": "code",
   "execution_count": 37,
   "id": "6c413aa7",
   "metadata": {},
   "outputs": [],
   "source": [
    "def f(smoker):\n",
    "    display(data.query(f'smoker == \"{YES if smoker == True else NO}\"'))"
   ]
  },
  {
   "cell_type": "code",
   "execution_count": 38,
   "id": "65065516",
   "metadata": {},
   "outputs": [
    {
     "data": {
      "application/vnd.jupyter.widget-view+json": {
       "model_id": "3ff6198956ed450dbf76f7dcd0d887c2",
       "version_major": 2,
       "version_minor": 0
      },
      "text/plain": [
       "interactive(children=(Checkbox(value=True, description='smoker'), Output()), _dom_classes=('widget-interact',)…"
      ]
     },
     "metadata": {},
     "output_type": "display_data"
    },
    {
     "data": {
      "text/plain": [
       "<function __main__.f(smoker)>"
      ]
     },
     "execution_count": 38,
     "metadata": {},
     "output_type": "execute_result"
    }
   ],
   "source": [
    "interact(f, smoker = True)"
   ]
  },
  {
   "cell_type": "markdown",
   "id": "32cff329",
   "metadata": {},
   "source": [
    "### 3 Selection Widgets"
   ]
  },
  {
   "cell_type": "markdown",
   "id": "84ee244b",
   "metadata": {},
   "source": [
    "#### 3.1 DropDown Widget"
   ]
  },
  {
   "cell_type": "markdown",
   "id": "6848a9f7",
   "metadata": {},
   "source": [
    "**e.g 1** retrive rows with different regions"
   ]
  },
  {
   "cell_type": "code",
   "execution_count": 39,
   "id": "2caa9607",
   "metadata": {},
   "outputs": [],
   "source": [
    "def f(region):\n",
    "    display(data.query(f'region == \"{region}\"'))"
   ]
  },
  {
   "cell_type": "code",
   "execution_count": 40,
   "id": "53c40036",
   "metadata": {
    "scrolled": true
   },
   "outputs": [
    {
     "data": {
      "application/vnd.jupyter.widget-view+json": {
       "model_id": "39b7996632824511892807b419edbea5",
       "version_major": 2,
       "version_minor": 0
      },
      "text/plain": [
       "interactive(children=(Dropdown(description='region', options=('southwest', 'southeast', 'northwest', 'northeas…"
      ]
     },
     "metadata": {},
     "output_type": "display_data"
    },
    {
     "data": {
      "text/plain": [
       "<function __main__.f(region)>"
      ]
     },
     "execution_count": 40,
     "metadata": {},
     "output_type": "execute_result"
    }
   ],
   "source": [
    "interact(f, region = data['region'].unique())"
   ]
  },
  {
   "cell_type": "markdown",
   "id": "7c28196a",
   "metadata": {},
   "source": [
    "**e.g 2** retrive rows with different regions & all regions"
   ]
  },
  {
   "cell_type": "code",
   "execution_count": 41,
   "id": "e8d1286b",
   "metadata": {},
   "outputs": [
    {
     "data": {
      "text/plain": [
       "[('Southwest', 'southwest'),\n",
       " ('Southeast', 'southeast'),\n",
       " ('Northwest', 'northwest'),\n",
       " ('Northeast', 'northeast'),\n",
       " ('All Regions', '@*')]"
      ]
     },
     "execution_count": 41,
     "metadata": {},
     "output_type": "execute_result"
    }
   ],
   "source": [
    "regions = [(i.capitalize(),i) for i in data['region'].unique()]\n",
    "regions.append(('All Regions', '@*'))\n",
    "regions"
   ]
  },
  {
   "cell_type": "code",
   "execution_count": 42,
   "id": "d3911086",
   "metadata": {},
   "outputs": [],
   "source": [
    "def f(region):\n",
    "    display(data.query(f'region.str.contains(\"{region}\")'))"
   ]
  },
  {
   "cell_type": "code",
   "execution_count": 43,
   "id": "1695435c",
   "metadata": {},
   "outputs": [
    {
     "data": {
      "application/vnd.jupyter.widget-view+json": {
       "model_id": "bfcb7d66056c445cb57fdc28c1d2518b",
       "version_major": 2,
       "version_minor": 0
      },
      "text/plain": [
       "interactive(children=(Dropdown(description='region', options=(('Southwest', 'southwest'), ('Southeast', 'south…"
      ]
     },
     "metadata": {},
     "output_type": "display_data"
    },
    {
     "data": {
      "text/plain": [
       "<function __main__.f(region)>"
      ]
     },
     "execution_count": 43,
     "metadata": {},
     "output_type": "execute_result"
    }
   ],
   "source": [
    "interact(f, region = regions)"
   ]
  },
  {
   "cell_type": "markdown",
   "id": "548c3c78",
   "metadata": {},
   "source": [
    "#### 3.2 RadioButtons Widget"
   ]
  },
  {
   "cell_type": "markdown",
   "id": "b128c5e4",
   "metadata": {},
   "source": [
    "**e.g** retrive rows with smoker = yes or no (select from a predetermined list of possible values)"
   ]
  },
  {
   "cell_type": "code",
   "execution_count": 44,
   "id": "dd538acf",
   "metadata": {},
   "outputs": [],
   "source": [
    "def f(smoker):\n",
    "    display(data.query(f'smoker == \"{smoker}\"'))"
   ]
  },
  {
   "cell_type": "code",
   "execution_count": 45,
   "id": "030ee0b1",
   "metadata": {},
   "outputs": [
    {
     "data": {
      "application/vnd.jupyter.widget-view+json": {
       "model_id": "0a658aea18844221b0078e5ebc597af0",
       "version_major": 2,
       "version_minor": 0
      },
      "text/plain": [
       "interactive(children=(RadioButtons(description='smoker', index=1, options=('yes', 'no'), value='no'), Output()…"
      ]
     },
     "metadata": {},
     "output_type": "display_data"
    },
    {
     "data": {
      "text/plain": [
       "<function __main__.f(smoker)>"
      ]
     },
     "execution_count": 45,
     "metadata": {},
     "output_type": "execute_result"
    }
   ],
   "source": [
    "interact(f, smoker = widgets.RadioButtons(options = [\"yes\", \"no\"], value = \"no\"))"
   ]
  },
  {
   "cell_type": "markdown",
   "id": "5a4f46cc",
   "metadata": {},
   "source": [
    "### 4 String Widgets"
   ]
  },
  {
   "cell_type": "markdown",
   "id": "9491c283",
   "metadata": {},
   "source": [
    "#### Text Widget"
   ]
  },
  {
   "cell_type": "markdown",
   "id": "69167d81",
   "metadata": {},
   "source": [
    "**e.g** retrive rows with different regions by typing"
   ]
  },
  {
   "cell_type": "code",
   "execution_count": 46,
   "id": "0f09bc93",
   "metadata": {},
   "outputs": [],
   "source": [
    "def f(region):\n",
    "    display(data.query(f'region.str.contains(\"{region}\")'))"
   ]
  },
  {
   "cell_type": "code",
   "execution_count": 47,
   "id": "58c15009",
   "metadata": {},
   "outputs": [
    {
     "data": {
      "application/vnd.jupyter.widget-view+json": {
       "model_id": "1e57a951662640959a6a86bba2ebeb1b",
       "version_major": 2,
       "version_minor": 0
      },
      "text/plain": [
       "interactive(children=(Text(value='', description='region'), Output()), _dom_classes=('widget-interact',))"
      ]
     },
     "metadata": {},
     "output_type": "display_data"
    },
    {
     "data": {
      "text/plain": [
       "<function __main__.f(region)>"
      ]
     },
     "execution_count": 47,
     "metadata": {},
     "output_type": "execute_result"
    }
   ],
   "source": [
    "interact(f, region = '') # continuous update"
   ]
  },
  {
   "cell_type": "code",
   "execution_count": 48,
   "id": "e10fd388",
   "metadata": {},
   "outputs": [
    {
     "data": {
      "application/vnd.jupyter.widget-view+json": {
       "model_id": "eddeb5e91a1f47659ff0969ca7868375",
       "version_major": 2,
       "version_minor": 0
      },
      "text/plain": [
       "interactive(children=(Text(value='', continuous_update=False, description='region'), Output()), _dom_classes=(…"
      ]
     },
     "metadata": {},
     "output_type": "display_data"
    },
    {
     "data": {
      "text/plain": [
       "<function __main__.f(region)>"
      ]
     },
     "execution_count": 48,
     "metadata": {},
     "output_type": "execute_result"
    }
   ],
   "source": [
    "interact(f, region = widgets.Text('', continuous_update = False))"
   ]
  },
  {
   "cell_type": "markdown",
   "id": "1c4352c2",
   "metadata": {},
   "source": [
    "### 5 Interactive Function\n",
    "\n",
    "- allows to pass in multiple values to create multiple widgets"
   ]
  },
  {
   "cell_type": "markdown",
   "id": "cb5f4bdd",
   "metadata": {},
   "source": [
    "**e.g** retrieve rows with certain criteria"
   ]
  },
  {
   "cell_type": "code",
   "execution_count": 49,
   "id": "b40c2c16",
   "metadata": {},
   "outputs": [
    {
     "data": {
      "application/vnd.jupyter.widget-view+json": {
       "model_id": "1150a1258184429781e853ab2e7e12be",
       "version_major": 2,
       "version_minor": 0
      },
      "text/plain": [
       "Output()"
      ]
     },
     "metadata": {},
     "output_type": "display_data"
    }
   ],
   "source": [
    "report_output = widgets.Output()\n",
    "display(report_output)\n",
    "\n",
    "def f(age, bmi, children, region, sex, smoker):\n",
    "    filtered = data.query(f'age >= {age} and bmi >= {bmi} and smoker == \"{smoker}\" and region.str.contains(\"{region}\") and sex==\"{sex}\" and children=={children}')\n",
    "    with report_output:\n",
    "        report_output.clear_output()\n",
    "        display(filtered)\n",
    "   \n",
    "regions = [(i.capitalize(),i) for i in data['region'].unique()]\n",
    "regions.append(('All Regions','@*'))"
   ]
  },
  {
   "cell_type": "code",
   "execution_count": 50,
   "id": "95f162a7",
   "metadata": {},
   "outputs": [
    {
     "data": {
      "application/vnd.jupyter.widget-view+json": {
       "model_id": "6fe4abb2a44f494a85916acebff1a96b",
       "version_major": 2,
       "version_minor": 0
      },
      "text/plain": [
       "interactive(children=(IntSlider(value=41, description='age', max=64, min=18), FloatSlider(value=34.545, descri…"
      ]
     },
     "execution_count": 50,
     "metadata": {},
     "output_type": "execute_result"
    }
   ],
   "source": [
    "interactive(f, \n",
    "            {'manual': True}, # avoid refreshing the dataframe until the user wants to see the updated dataframe\n",
    "            age = (data['age'].min(), data['age'].max()), \n",
    "            bmi = (data['bmi'].min(), data['bmi'].max()), \n",
    "            children = (data['children'].min(), data['children'].max()),\n",
    "            region = regions,           \n",
    "            sex = widgets.RadioButtons(options = [\"female\", \"male\"], value = \"female\"),\n",
    "            smoker = widgets.RadioButtons(options = [\"yes\", \"no\"], value = \"no\"),             \n",
    "           )"
   ]
  }
 ],
 "metadata": {
  "kernelspec": {
   "display_name": "Python 3 (ipykernel)",
   "language": "python",
   "name": "python3"
  },
  "language_info": {
   "codemirror_mode": {
    "name": "ipython",
    "version": 3
   },
   "file_extension": ".py",
   "mimetype": "text/x-python",
   "name": "python",
   "nbconvert_exporter": "python",
   "pygments_lexer": "ipython3",
   "version": "3.9.16"
  },
  "toc": {
   "base_numbering": 1,
   "nav_menu": {},
   "number_sections": false,
   "sideBar": true,
   "skip_h1_title": false,
   "title_cell": "Table of Contents",
   "title_sidebar": "Contents",
   "toc_cell": false,
   "toc_position": {
    "height": "calc(100% - 180px)",
    "left": "10px",
    "top": "150px",
    "width": "461.1875px"
   },
   "toc_section_display": true,
   "toc_window_display": true
  }
 },
 "nbformat": 4,
 "nbformat_minor": 5
}
